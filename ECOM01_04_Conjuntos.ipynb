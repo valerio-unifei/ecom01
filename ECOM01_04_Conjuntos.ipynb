{
  "nbformat": 4,
  "nbformat_minor": 0,
  "metadata": {
    "colab": {
      "name": "ECOM01_04_Conjuntos.ipynb",
      "provenance": [],
      "authorship_tag": "ABX9TyOFcqpPwNUBno4i8Xem7VBH",
      "include_colab_link": true
    },
    "kernelspec": {
      "name": "python3",
      "display_name": "Python 3"
    },
    "language_info": {
      "name": "python"
    }
  },
  "cells": [
    {
      "cell_type": "markdown",
      "metadata": {
        "id": "view-in-github",
        "colab_type": "text"
      },
      "source": [
        "<a href=\"https://colab.research.google.com/github/valerio-unifei/ecom01/blob/main/ECOM01_04_Conjuntos.ipynb\" target=\"_parent\"><img src=\"https://colab.research.google.com/assets/colab-badge.svg\" alt=\"Open In Colab\"/></a>"
      ]
    },
    {
      "cell_type": "markdown",
      "source": [
        "# Teoria de Conjuntos"
      ],
      "metadata": {
        "id": "fhFrnZyE1bjx"
      }
    },
    {
      "cell_type": "markdown",
      "source": [
        "A Teoria de Conjuntos é a teoria matemática que se ocupa de um universo  de indivíduos *'U'* a que chamamos conjuntos.\n"
      ],
      "metadata": {
        "id": "vCXhOPHT1d7b"
      }
    },
    {
      "cell_type": "markdown",
      "source": [
        "Um conjunto pode ser descrito em **extensão** (quando o número dos seus elementos for finito e suficientemente pequeno) enumerando explicitamente todos os seus elementos e colocados entre chavetas e separados por vírgulas ou em **compreensão**, enunciando uma propriedade caracterizadora dos seus elementos (isto é, uma propriedade que os seus e só os seus elementos possuem)."
      ],
      "metadata": {
        "id": "07RN6rty2C16"
      }
    },
    {
      "cell_type": "markdown",
      "source": [
        "## Notação em Python"
      ],
      "metadata": {
        "id": "J0Z01iP62Kw9"
      }
    },
    {
      "cell_type": "markdown",
      "source": [
        "Conjunto no Python é definido como '*set()*' e tem a finalidade de armazenar vários itens únicos em uma única variável.\n",
        "\n",
        "Set é um dos 4 tipos de dados internos do Python usados ​​para armazenar coleções de dados, os outros 3 são List, Tuple e Dictionary, todos com qualidades e usos diferentes.\n",
        "\n",
        "As qualidades da coleção Set (conjunto) são:\n",
        "* não ordenável;\n",
        "* elementos imutável (não editáveis, mas inseríveis e apagáveis);\n",
        "* únicos (sem repetição);\n",
        "* não indexados."
      ],
      "metadata": {
        "id": "ScrE9WbN2V1Q"
      }
    },
    {
      "cell_type": "code",
      "execution_count": null,
      "metadata": {
        "id": "5Nq8F9vi1YJy"
      },
      "outputs": [],
      "source": [
        "A = {'a','b','c','d'}\n",
        "print(A)"
      ]
    },
    {
      "cell_type": "markdown",
      "source": [
        "Repetições são ignoradas:"
      ],
      "metadata": {
        "id": "TkZHx_Wo4NNw"
      }
    },
    {
      "cell_type": "code",
      "source": [
        "B = {1,2,3,3}\n",
        "print(B)"
      ],
      "metadata": {
        "id": "7GcvL9qs3QNv"
      },
      "execution_count": null,
      "outputs": []
    },
    {
      "cell_type": "markdown",
      "source": [
        "Tamanho do conjunto:"
      ],
      "metadata": {
        "id": "rTtC5Jzn4KkX"
      }
    },
    {
      "cell_type": "code",
      "source": [
        "print('Tamanho A =',len(A))\n",
        "print('Tamanho B =',len(B))"
      ],
      "metadata": {
        "id": "5CvVrmK63WD1"
      },
      "execution_count": null,
      "outputs": []
    },
    {
      "cell_type": "markdown",
      "source": [
        "Suporta multiplos tipos no mesmo conjunto:"
      ],
      "metadata": {
        "id": "KZqBjxmZ4FLo"
      }
    },
    {
      "cell_type": "code",
      "source": [
        "C = {4,'f',7,'r',True}\n",
        "C"
      ],
      "metadata": {
        "id": "CWujK7KR3lMw"
      },
      "execution_count": null,
      "outputs": []
    },
    {
      "cell_type": "markdown",
      "source": [
        "Classe de orientação dos conjuntos (set) em Python:"
      ],
      "metadata": {
        "id": "5gbUNhNH4A0C"
      }
    },
    {
      "cell_type": "code",
      "source": [
        "A.__class__"
      ],
      "metadata": {
        "id": "4sNC5RHr3xD1"
      },
      "execution_count": null,
      "outputs": []
    },
    {
      "cell_type": "markdown",
      "source": [
        "## Existência de elementos no conjunto"
      ],
      "metadata": {
        "id": "Ge7cls3Z4oBC"
      }
    },
    {
      "cell_type": "markdown",
      "source": [
        "Dado o conjunto:\n",
        "\n",
        "A = { 1, 3, 5, 7}   \n",
        "\n",
        "Pergunta-se:\n",
        "\n",
        "7 ∈ A ?"
      ],
      "metadata": {
        "id": "kyEIkAfB4u0L"
      }
    },
    {
      "cell_type": "code",
      "source": [
        "A = {1, 3, 5, 7}\n",
        "(7 in A) == True"
      ],
      "metadata": {
        "id": "D4v1KzDX4uU4"
      },
      "execution_count": null,
      "outputs": []
    },
    {
      "cell_type": "markdown",
      "source": [
        "B = { x | x é par}\n",
        "\n",
        "5 ∉ B ?"
      ],
      "metadata": {
        "id": "0kLipzcZ5Yvr"
      }
    },
    {
      "cell_type": "code",
      "source": [
        "def B(x):\n",
        "  return (x % 2) == 0\n",
        "\n",
        "B(5) == False"
      ],
      "metadata": {
        "id": "E8fPW6yC5V4D"
      },
      "execution_count": null,
      "outputs": []
    },
    {
      "cell_type": "markdown",
      "source": [
        "## Conjuntos Finitos e Infinitos"
      ],
      "metadata": {
        "id": "lG7-Vb2S7b90"
      }
    },
    {
      "cell_type": "markdown",
      "source": [
        "```\n",
        "A = {1, 3, 5, 7} >> Conjunto Finito\n",
        "\n",
        "B = { x | x é par} >> Conjunto Infinito\n",
        "```\n"
      ],
      "metadata": {
        "id": "pU3rfQUX7sVI"
      }
    },
    {
      "cell_type": "code",
      "source": [
        "# cardinalidade\n",
        "def card(x):\n",
        "  return len(x)\n",
        "\n",
        "card(A)"
      ],
      "metadata": {
        "id": "_75MbEgW7bh_"
      },
      "execution_count": null,
      "outputs": []
    },
    {
      "cell_type": "code",
      "source": [
        "# singular\n",
        "C = {'t'}\n",
        "card(C)"
      ],
      "metadata": {
        "id": "nQrsVXX_8Fql"
      },
      "execution_count": null,
      "outputs": []
    },
    {
      "cell_type": "markdown",
      "source": [
        "## Igualdade de Conjuntos"
      ],
      "metadata": {
        "id": "Y_XU1cnH8KP4"
      }
    },
    {
      "cell_type": "markdown",
      "source": [
        "Quando todos os elementos de um conjunto também é membro de outro conjunto.\n",
        "\n",
        "A ⊂ B"
      ],
      "metadata": {
        "id": "o_Mw-QCf8vix"
      }
    },
    {
      "cell_type": "code",
      "source": [
        "A = {1, 2, 3}\n",
        "B = {1, 2, 3, 4, 5, 6, 7}\n",
        "C = {3, 4, 8}\n",
        "\n",
        "print('A ⊂ B', A.issubset(B))\n",
        "print('B ⊂ A', B.issubset(A))\n",
        "print('C ⊂ B', C.issubset(B))"
      ],
      "metadata": {
        "id": "FtXno7OT9A77"
      },
      "execution_count": null,
      "outputs": []
    },
    {
      "cell_type": "markdown",
      "source": [
        "## Conjunto Nulo"
      ],
      "metadata": {
        "id": "uEQ_ShdV-Ag2"
      }
    },
    {
      "cell_type": "code",
      "source": [
        "def N(x):\n",
        "  return x**2 == 4 and x % 2 == 1\n",
        "\n",
        "D = set()\n",
        "for x in range(0,1000):\n",
        "  if N(x):\n",
        "    D.add(x)\n",
        "\n",
        "D"
      ],
      "metadata": {
        "id": "2UiarU-7-ACK"
      },
      "execution_count": null,
      "outputs": []
    },
    {
      "cell_type": "markdown",
      "source": [
        "## Comparabilidade"
      ],
      "metadata": {
        "id": "UtoB0A4I-g9U"
      }
    },
    {
      "cell_type": "code",
      "source": [
        "A = {1, 2, 3}\n",
        "B = {1, 2, 3}\n",
        "C = {3, 4, 8}\n",
        "\n",
        "print('A ⊂ B e B ⊂ A', A.issubset(B) and B.issubset(A))\n",
        "print('A ⊂ C e C ⊂ A', A.issubset(C) and C.issubset(A))"
      ],
      "metadata": {
        "id": "bK5bi26x_Sjh"
      },
      "execution_count": null,
      "outputs": []
    },
    {
      "cell_type": "markdown",
      "source": [
        "# Operações em Conjuntos"
      ],
      "metadata": {
        "id": "Yd6soRGY_iih"
      }
    },
    {
      "cell_type": "markdown",
      "source": [
        "## União"
      ],
      "metadata": {
        "id": "1ZYkNzkf_k3y"
      }
    },
    {
      "cell_type": "code",
      "source": [
        "A = {1, 2, 3}\n",
        "B = {1, 2, 3, 4, 5, 6, 7}\n",
        "C = {3, 4, 8}\n",
        "\n",
        "print('A ∪ B', A.union(B))\n",
        "print('A ∪ C', A.union(C))\n",
        "print('B ∪ C', B.union(C))"
      ],
      "metadata": {
        "id": "s9sfJf3a_mn0"
      },
      "execution_count": null,
      "outputs": []
    },
    {
      "cell_type": "markdown",
      "source": [
        "# Interseção"
      ],
      "metadata": {
        "id": "ERA0T_UJ__ys"
      }
    },
    {
      "cell_type": "code",
      "source": [
        "A = {1, 2, 3}\n",
        "B = {1, 2, 3, 4, 5, 6, 7}\n",
        "C = {3, 4, 8}\n",
        "\n",
        "print('A ∩ B', A.intersection(B))\n",
        "print('A ∩ C', A.intersection(C))\n",
        "print('B ∩ C', B.intersection(C))"
      ],
      "metadata": {
        "id": "bNW3r8oF__dm"
      },
      "execution_count": null,
      "outputs": []
    },
    {
      "cell_type": "markdown",
      "source": [
        "## Diferença"
      ],
      "metadata": {
        "id": "J_OuUHIhAROp"
      }
    },
    {
      "cell_type": "code",
      "source": [
        "A = {1, 2, 3}\n",
        "B = {1, 2, 3, 4, 5, 6, 7}\n",
        "C = {3, 4, 8}\n",
        "\n",
        "print('A - B', A.difference(B))\n",
        "print('A - C', A.difference(C))\n",
        "print('B - C', B.difference(C))"
      ],
      "metadata": {
        "id": "oQNtVAkPAK6a"
      },
      "execution_count": null,
      "outputs": []
    },
    {
      "cell_type": "markdown",
      "source": [
        "### Diferença Simétrica"
      ],
      "metadata": {
        "id": "qJ4gh2VkBU1r"
      }
    },
    {
      "cell_type": "code",
      "source": [
        "A = {1, 2, 3}\n",
        "B = {1, 2, 3, 4, 5, 6, 7}\n",
        "C = {3, 4, 8}\n",
        "\n",
        "print('A - B', A.symmetric_difference(B))\n",
        "print('A - C', A.symmetric_difference(C))\n",
        "print('B - C', B.symmetric_difference(C))"
      ],
      "metadata": {
        "id": "-7H2th5CBZC4"
      },
      "execution_count": null,
      "outputs": []
    },
    {
      "cell_type": "markdown",
      "source": [
        "## Complemento"
      ],
      "metadata": {
        "id": "DyryhsZ7AagK"
      }
    },
    {
      "cell_type": "code",
      "source": [
        "U = set(range(-1000,1000))\n",
        "\n",
        "A = {0, 1, 2, 3}\n",
        "B = {1, 2, 3, 4, 5, 6, 7}\n",
        "C = {3, 4, 8}\n",
        "\n",
        "print(\"A'\", U.difference(A))\n",
        "print(\"B'\", U.difference(B))\n",
        "print(\"C'\", U.difference(C))"
      ],
      "metadata": {
        "id": "wIWiGK8gAYAU"
      },
      "execution_count": null,
      "outputs": []
    },
    {
      "cell_type": "markdown",
      "source": [
        "## Conjunto Potência"
      ],
      "metadata": {
        "id": "Ij18nzJLA3ZH"
      }
    },
    {
      "cell_type": "code",
      "source": [
        "from itertools import chain, combinations\n",
        "\n",
        "def conjunto_potencia(conjunto):\n",
        "    s = list(conjunto)\n",
        "    return set(chain.from_iterable(combinations(s, r) for r in range(len(s)+1)))\n",
        "\n",
        "M = {'a','b'}\n",
        "# 2**M\n",
        "conjunto_potencia(M)"
      ],
      "metadata": {
        "id": "KU4xilNLA8sW"
      },
      "execution_count": null,
      "outputs": []
    },
    {
      "cell_type": "markdown",
      "source": [
        "# Identidade dos Conjuntos"
      ],
      "metadata": {
        "id": "YFroyukcKKTK"
      }
    },
    {
      "cell_type": "code",
      "source": [
        "A = { 1, 2, 3, 4}\n",
        "B = { 3, 4, 5, 6}\n",
        "C = { 5, 6, 7 ,8}\n",
        "V = set()\n",
        "U = set(range(0,20))\n",
        "\n",
        "print('Idempotentes: A ∪ A == A :', A.union(A) == A)\n",
        "print('Idempotentes: A ∩ A == A :', A.intersection(A) == A)\n",
        "print('Associativas: (A ∪ B) ∪ C == A ∪ (B ∪ C) :', (A.union(B)).union(C) == A.union(B.union(C)))\n",
        "print('Associativas: (A ∩ B) ∩ C == A ∩ (B ∩ C) :', (A.intersection(B)).intersection(C) == A.intersection(B.intersection(C)))\n",
        "print('Comutativas: A ∪ B == B ∪ A :', A.union(B) == B.union(A))\n",
        "print('Comutativas: A ∩ B == B ∩ A :', A.intersection(B) == B.intersection(A))\n",
        "print('Distributivas: A ∪ (B ∩ C) == (A ∪ B) ∩ (A ∪ C) :', A.union(B.intersection(C)) == (A.union(B)).intersection(A.union(C)))\n",
        "print('Distributivas: A ∩ (B ∪ C) == (A ∩ B) ∪ (A ∩ C) :', A.intersection(B.union(C)) == (A.intersection(B)).union(A.intersection(C)))\n",
        "print('Identidade: A ∪ V == A :', A.union(V) == A)\n",
        "print('Identidade: A ∪ U == U :', A.union(U) == U)\n",
        "print('Identidade: A ∩ V == V :', A.intersection(V) == V)\n",
        "print('Identidade: A ∩ U == A :', A.intersection(U) == A)\n",
        "print(\"Complemento: A ∪ A' == U :\", A.union(U.difference(A)) == U)\n",
        "print(\"Complemento: A ∩ A' == V :\", A.intersection(U.difference(A)) == V)\n",
        "print(\"Complemento: (A')' == A :\", U.difference(U.difference(A)) == A)\n",
        "print(\"Complemento: U' == V :\", U.difference(U) == V)\n",
        "print(\"Complemento: V' == U :\", U.difference(V) == U)\n",
        "print(\"de Morgan: (A ∪ B)' == A' ∩ B' :\", U.difference(A.union(B)) == U.difference(A).intersection(U.difference(B)))\n",
        "print(\"de Morgan: (A ∩ B)' == A' ∪ B' :\", U.difference(A.intersection(B)) == U.difference(A).union(U.difference(B)))"
      ],
      "metadata": {
        "id": "GT0IiGulKNbh"
      },
      "execution_count": null,
      "outputs": []
    },
    {
      "cell_type": "markdown",
      "source": [
        "# Exercícios"
      ],
      "metadata": {
        "id": "zU2bfHOPTyA5"
      }
    },
    {
      "cell_type": "markdown",
      "source": [
        "### Numa escola de 360 alunos, onde só tem matemática e português, 240 estudam matemática, 180 estudam em ambas.  Quantos estudam português?"
      ],
      "metadata": {
        "id": "DdCKp7e7T0EP"
      }
    },
    {
      "cell_type": "code",
      "source": [
        "a = 360 - 240\n",
        "180 - a"
      ],
      "metadata": {
        "id": "ZSqqg_7tTxgr"
      },
      "execution_count": null,
      "outputs": []
    },
    {
      "cell_type": "markdown",
      "source": [
        "### Converta uma lista aleatória em conjunto"
      ],
      "metadata": {
        "id": "DqEkB_2DXCQm"
      }
    },
    {
      "cell_type": "code",
      "source": [
        "from random import randrange,seed\n",
        "seed(42)\n",
        "\n",
        "A = [randrange(1,10) for x in range(0,20)]\n",
        "print(A)"
      ],
      "metadata": {
        "id": "fLiYpZfkUomR"
      },
      "execution_count": null,
      "outputs": []
    },
    {
      "cell_type": "markdown",
      "source": [
        "### Encontre o máximo e mínimo valor de elementos no conjunto"
      ],
      "metadata": {
        "id": "oO_8imYpZZNF"
      }
    },
    {
      "cell_type": "code",
      "source": [
        "G = set(\"universidade federal de itajuba\")\n",
        "G"
      ],
      "metadata": {
        "id": "Hw8YwD8FZkhp"
      },
      "execution_count": null,
      "outputs": []
    },
    {
      "cell_type": "markdown",
      "source": [
        "### Copie um conjunto em um novo"
      ],
      "metadata": {
        "id": "7GCL9rt3Zzz9"
      }
    },
    {
      "cell_type": "code",
      "source": [
        "H = set('piranguinho')\n",
        "H"
      ],
      "metadata": {
        "id": "_kTfGvfEaJSW"
      },
      "execution_count": null,
      "outputs": []
    },
    {
      "cell_type": "markdown",
      "source": [
        "## Dados os conjuntos"
      ],
      "metadata": {
        "id": "9Ex2xv7qa1do"
      }
    },
    {
      "cell_type": "code",
      "source": [
        "N = set('itajuba')\n",
        "O = set('maria da fe')\n",
        "P = set('delfim moreira')\n",
        "Q = set('brasopolis')\n",
        "R = set('santa rita do sapucai')\n",
        "S = set('pouso alegre')"
      ],
      "metadata": {
        "id": "v5vBHQBwbAZ6"
      },
      "execution_count": null,
      "outputs": []
    },
    {
      "cell_type": "markdown",
      "source": [
        "Calcule para todas as combinações:"
      ],
      "metadata": {
        "id": "mMLmVW8Xbu3p"
      }
    },
    {
      "cell_type": "markdown",
      "source": [
        "### difference_update"
      ],
      "metadata": {
        "id": "JVWoWadUbbJF"
      }
    },
    {
      "cell_type": "code",
      "source": [
        ""
      ],
      "metadata": {
        "id": "NPQSr3aKbasa"
      },
      "execution_count": null,
      "outputs": []
    },
    {
      "cell_type": "markdown",
      "source": [
        "### intersection_update"
      ],
      "metadata": {
        "id": "Jfef-a8hbhQ7"
      }
    },
    {
      "cell_type": "code",
      "source": [
        ""
      ],
      "metadata": {
        "id": "lhtqLw0ibnV6"
      },
      "execution_count": null,
      "outputs": []
    },
    {
      "cell_type": "markdown",
      "source": [
        "### symmetric_difference_update"
      ],
      "metadata": {
        "id": "iAQP5sZxbnlK"
      }
    },
    {
      "cell_type": "code",
      "source": [
        ""
      ],
      "metadata": {
        "id": "FqD8P0s3b2a-"
      },
      "execution_count": null,
      "outputs": []
    },
    {
      "cell_type": "markdown",
      "source": [
        "### update"
      ],
      "metadata": {
        "id": "i-qSt1P3b22_"
      }
    },
    {
      "cell_type": "code",
      "source": [
        ""
      ],
      "metadata": {
        "id": "8gq1qCGSb7Sp"
      },
      "execution_count": null,
      "outputs": []
    },
    {
      "cell_type": "markdown",
      "source": [
        "### isdisjoint"
      ],
      "metadata": {
        "id": "knL0DR5BcAPY"
      }
    },
    {
      "cell_type": "code",
      "source": [
        ""
      ],
      "metadata": {
        "id": "rLY_PE7IcHdA"
      },
      "execution_count": null,
      "outputs": []
    }
  ]
}