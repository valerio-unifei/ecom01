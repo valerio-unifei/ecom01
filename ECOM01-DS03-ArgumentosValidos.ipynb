{
  "nbformat": 4,
  "nbformat_minor": 0,
  "metadata": {
    "colab": {
      "name": "ECOM01-DS03-ArgumentosValidos.ipynb",
      "provenance": [],
      "authorship_tag": "ABX9TyNifWV1eJgp/FPHp1HxzWH2",
      "include_colab_link": true
    },
    "kernelspec": {
      "name": "python3",
      "display_name": "Python 3"
    },
    "language_info": {
      "name": "python"
    }
  },
  "cells": [
    {
      "cell_type": "markdown",
      "metadata": {
        "id": "view-in-github",
        "colab_type": "text"
      },
      "source": [
        "<a href=\"https://colab.research.google.com/github/valerio-unifei/ecom01/blob/main/ECOM01-DS03-ArgumentosValidos.ipynb\" target=\"_parent\"><img src=\"https://colab.research.google.com/assets/colab-badge.svg\" alt=\"Open In Colab\"/></a>"
      ]
    },
    {
      "cell_type": "markdown",
      "source": [
        "# Base de Dados (Dataset)"
      ],
      "metadata": {
        "id": "ZCANuMK6oce_"
      }
    },
    {
      "cell_type": "markdown",
      "source": [
        "http://archive.ics.uci.edu/ml/datasets/Dry+Bean+Dataset\n",
        "\n",
        "Sete tipos diferentes de **feijões secos** foram utilizados nesta pesquisa, levando em consideração as características como forma, formato, tipo e estrutura pela situação do mercado. Um sistema de visão computacional foi desenvolvido para distinguir sete diferentes variedades registradas de feijões secos com características semelhantes, a fim de obter uma classificação uniforme das sementes. Para o modelo de classificação, imagens de 13.611 grãos de 7 feijões diferentes registrados foram obtidas com uma câmera de alta resolução. As imagens de feijão obtidas pelo sistema de visão computacional foram submetidas às etapas de segmentação e extração de características, totalizando 16 características; 12 dimensões e 4 formas de forma, foram obtidas a partir dos grãos."
      ],
      "metadata": {
        "id": "gkK0jGO5ubVa"
      }
    },
    {
      "cell_type": "code",
      "source": [
        "# Baixa o arquivo da web\n",
        "!wget http://archive.ics.uci.edu/ml/machine-learning-databases/00602/DryBeanDataset.zip -O DryBeanDataset.zip\n",
        "# extrai arquivos do zip\n",
        "!unzip -q DryBeanDataset.zip"
      ],
      "metadata": {
        "id": "lse0HDk7wt9X"
      },
      "execution_count": null,
      "outputs": []
    },
    {
      "cell_type": "code",
      "source": [
        "import pandas as pd\n",
        "# carrega arquivo excel existente com base de dados de feijões secos\n",
        "df = pd.read_excel('/content/DryBeanDataset/Dry_Bean_Dataset.xlsx')\n",
        "df"
      ],
      "metadata": {
        "id": "xruilVwVudsx"
      },
      "execution_count": null,
      "outputs": []
    },
    {
      "cell_type": "code",
      "source": [
        "import seaborn as sns\n",
        "sns.set(rc={'figure.figsize':(12,7)})\n",
        "\n",
        "_ = sns.histplot(data=df, x='Area', kde=True, hue='Class')"
      ],
      "metadata": {
        "id": "8SD51lXUaVT2"
      },
      "execution_count": null,
      "outputs": []
    },
    {
      "cell_type": "code",
      "source": [
        "sns.kdeplot(data=df, x='MajorAxisLength',y='MinorAxisLength',hue='Class')"
      ],
      "metadata": {
        "id": "L33-WRwTa4mE"
      },
      "execution_count": null,
      "outputs": []
    },
    {
      "cell_type": "code",
      "source": [
        "sns.jointplot(data=df, x='MajorAxisLength',y='MinorAxisLength',hue='Class')"
      ],
      "metadata": {
        "id": "5bW8_5mFbYQs"
      },
      "execution_count": null,
      "outputs": []
    },
    {
      "cell_type": "markdown",
      "source": [
        "# Extrator de Conhecimento"
      ],
      "metadata": {
        "id": "B_0JhpgZrWQd"
      }
    },
    {
      "cell_type": "code",
      "source": [
        "X = df[df.columns[:-1]].values\n",
        "y, class_names = pd.factorize(df[df.columns[-1]])\n",
        "columns_names = list(df.columns)"
      ],
      "metadata": {
        "id": "d4yHLrfUxUxg"
      },
      "execution_count": null,
      "outputs": []
    },
    {
      "cell_type": "markdown",
      "source": [
        "Gerando Árvore de Decisão"
      ],
      "metadata": {
        "id": "cXDV-WyJyj51"
      }
    },
    {
      "cell_type": "code",
      "source": [
        "from sklearn import tree\n",
        "\n",
        "clf = tree.DecisionTreeClassifier(max_depth=5)\n",
        "clf.fit(X,y)\n",
        "print('Score =',clf.score(X,y))"
      ],
      "metadata": {
        "id": "pAjvNUH3qj9f"
      },
      "execution_count": null,
      "outputs": []
    },
    {
      "cell_type": "code",
      "source": [
        "from sklearn.tree import _tree\n",
        "import numpy as np\n",
        "\n",
        "def tree_to_code(tree, columns_names, class_names):\n",
        "    tree_ = tree.tree_\n",
        "    undef = _tree.TREE_UNDEFINED\n",
        "    feature_name = [columns_names[i] if i != undef else \"indefinido!\" for i in tree_.feature]\n",
        "    feature_names = [f.replace(\" \", \"_\") for f in columns_names]\n",
        "\n",
        "    def recurse(node, depth):\n",
        "        if tree_.feature[node] != undef:\n",
        "            name = feature_name[node]\n",
        "            threshold = tree_.threshold[node]\n",
        "            print(f'({name} <= {threshold}), ',end='')\n",
        "            recurse(tree_.children_left[node], depth + 1)\n",
        "            print(f'({name} > {threshold}), ',end='')\n",
        "            recurse(tree_.children_right[node], depth + 1)\n",
        "        else:\n",
        "            value_name = class_names[np.argmax(tree_.value[node])]\n",
        "            rows_number = int(sum(tree_.value[node][0]))\n",
        "            print(f'∴ ({columns_names[-1]} == {value_name})\\n')\n",
        "            print(f'amostras: {rows_number}\\n\\n')\n",
        "            \n",
        "    recurse(0, 1)\n",
        "\n",
        "tree_to_code(clf,columns_names,list(class_names))"
      ],
      "metadata": {
        "id": "5xfGJM7KzPch"
      },
      "execution_count": null,
      "outputs": []
    },
    {
      "cell_type": "markdown",
      "source": [
        "# Argumentos Válidos"
      ],
      "metadata": {
        "id": "u3o6rXE68565"
      }
    },
    {
      "cell_type": "markdown",
      "source": [
        "Verificar se os argumentos abaixo são válidos"
      ],
      "metadata": {
        "id": "u4vscEC7-QYG"
      }
    },
    {
      "cell_type": "markdown",
      "source": [
        "```\n",
        "(MajorAxisLength <= 280.7041931152344), (ShapeFactor1 <= 0.006819602334871888), (ShapeFactor3 <= 0.7274537682533264), \n",
        "(roundness <= 0.9265730679035187), (Perimeter <= 745.8924865722656) ∴ (Class == DERMASON)\n",
        "\n",
        "amostras: 43\n",
        "\n",
        "```\n",
        "\n"
      ],
      "metadata": {
        "id": "iTDqizlF9VyB"
      }
    },
    {
      "cell_type": "code",
      "source": [
        ""
      ],
      "metadata": {
        "id": "9ik_7zYs9IlV"
      },
      "execution_count": null,
      "outputs": []
    },
    {
      "cell_type": "markdown",
      "source": [
        "\n",
        "\n",
        "```\n",
        "(roundness > 0.9265730679035187), (ShapeFactor4 <= 0.9987176060676575), ∴ (Class == DERMASON)\n",
        "\n",
        "amostras: 48\n",
        "```\n",
        "\n"
      ],
      "metadata": {
        "id": "kYkyCded9mfk"
      }
    },
    {
      "cell_type": "code",
      "source": [
        ""
      ],
      "metadata": {
        "id": "U_YAaVtJ9oWw"
      },
      "execution_count": null,
      "outputs": []
    },
    {
      "cell_type": "markdown",
      "source": [
        "\n",
        "\n",
        "```\n",
        "(Perimeter > 745.8924865722656) ∴ (Class == SIRA)\n",
        "\n",
        "amostras: 131\n",
        "```\n",
        "\n"
      ],
      "metadata": {
        "id": "nk5ENN0s9pYg"
      }
    },
    {
      "cell_type": "code",
      "source": [
        ""
      ],
      "metadata": {
        "id": "4KRT-rzt9rbZ"
      },
      "execution_count": null,
      "outputs": []
    },
    {
      "cell_type": "markdown",
      "source": [
        "\n",
        "\n",
        "```\n",
        "(Compactness > 0.8845791220664978), (ShapeFactor1 <= 0.007053160108625889) ∴ (Class == SEKER)\n",
        "\n",
        "amostras: 63\n",
        "```\n",
        "\n"
      ],
      "metadata": {
        "id": "p4WAsD-V9uj1"
      }
    },
    {
      "cell_type": "code",
      "source": [
        ""
      ],
      "metadata": {
        "id": "bXwUkUSg9uB7"
      },
      "execution_count": null,
      "outputs": []
    },
    {
      "cell_type": "markdown",
      "source": [
        "## Demais condições"
      ],
      "metadata": {
        "id": "zQELEDy5-kun"
      }
    },
    {
      "cell_type": "markdown",
      "source": [
        "\n",
        "\n",
        "```\n",
        "(ShapeFactor3 > 0.7274537682533264), (Compactness <= 0.8695324659347534), \n",
        "(ShapeFactor4 <= 0.9966754019260406) ∴ (Class == SIRA)\n",
        "\n",
        "amostras: 27\n",
        "\n",
        "\n",
        "(ShapeFactor4 > 0.9966754019260406) ∴ (Class == SEKER)\n",
        "\n",
        "amostras: 142\n",
        "\n",
        "\n",
        "(Compactness > 0.8695324659347534), (Extent <= 0.8283936977386475) ∴ (Class == SEKER)\n",
        "\n",
        "amostras: 1628\n",
        "\n",
        "\n",
        "(Extent > 0.8283936977386475) ∴ (Class == DERMASON)\n",
        "\n",
        "amostras: 1\n",
        "\n",
        "\n",
        "(ShapeFactor1 > 0.006819602334871888), (Perimeter <= 711.3135070800781), (Compactness <= 0.8845791220664978), \n",
        "(ShapeFactor1 <= 0.007065028417855501) ∴ (Class == DERMASON)\n",
        "\n",
        "amostras: 95\n",
        "\n",
        "\n",
        "(ShapeFactor1 > 0.007065028417855501) ∴ (Class == DERMASON)\n",
        "\n",
        "amostras: 2797\n",
        "\n",
        "\n",
        "(Compactness > 0.8845791220664978), (ShapeFactor1 <= 0.007053160108625889) ∴ (Class == SEKER)\n",
        "\n",
        "amostras: 63\n",
        "\n",
        "\n",
        "(ShapeFactor1 > 0.007053160108625889) ∴ (Class == DERMASON)\n",
        "\n",
        "amostras: 22\n",
        "\n",
        "\n",
        "(Perimeter > 711.3135070800781), (Perimeter <= 739.5480041503906), \n",
        "(roundness <= 0.9030214250087738) ∴ (Class == DERMASON)\n",
        "\n",
        "amostras: 247\n",
        "\n",
        "\n",
        "(roundness > 0.9030214250087738) ∴ (Class == DERMASON)\n",
        "\n",
        "amostras: 304\n",
        "\n",
        "\n",
        "(Perimeter > 739.5480041503906), (MinorAxisLength <= 175.9747085571289) ∴ (Class == DERMASON)\n",
        "\n",
        "amostras: 16\n",
        "\n",
        "\n",
        "(MinorAxisLength > 175.9747085571289) ∴ (Class == SIRA)\n",
        "\n",
        "amostras: 163\n",
        "\n",
        "\n",
        "(MajorAxisLength > 280.7041931152344), (ShapeFactor3 <= 0.5304427742958069), (MinorAxisLength <= 215.31133270263672), \n",
        "(ShapeFactor1 <= 0.006129891611635685), (Extent <= 0.793764054775238) ∴ (Class == HOROZ)\n",
        "\n",
        "amostras: 15\n",
        "\n",
        "\n",
        "(Extent > 0.793764054775238) ∴ (Class == CALI)\n",
        "\n",
        "amostras: 4\n",
        "\n",
        "\n",
        "(ShapeFactor1 > 0.006129891611635685), (Eccentricity <= 0.8643796145915985) ∴ (Class == HOROZ)\n",
        "\n",
        "amostras: 495\n",
        "\n",
        "\n",
        "(Eccentricity > 0.8643796145915985) ∴ (Class == HOROZ)\n",
        "\n",
        "amostras: 1225\n",
        "\n",
        "\n",
        "(MinorAxisLength > 215.31133270263672), (MajorAxisLength <= 583.6639404296875), \n",
        "(roundness <= 0.7935212254524231) ∴ (Class == HOROZ)\n",
        "\n",
        "amostras: 20\n",
        "\n",
        "\n",
        "(roundness > 0.7935212254524231) ∴ (Class == CALI)\n",
        "\n",
        "amostras: 89\n",
        "\n",
        "\n",
        "(MajorAxisLength > 583.6639404296875) ∴ (Class == BOMBAY)\n",
        "\n",
        "amostras: 7\n",
        "\n",
        "\n",
        "(ShapeFactor3 > 0.5304427742958069), (Perimeter <= 897.3164978027344), (roundness <= 0.9222025275230408), \n",
        "(Perimeter <= 764.1730041503906) ∴ (Class == SIRA)\n",
        "\n",
        "amostras: 322\n",
        "\n",
        "\n",
        "(Perimeter > 764.1730041503906) ∴ (Class == SIRA)\n",
        "\n",
        "amostras: 2169\n",
        "\n",
        "\n",
        "(roundness > 0.9222025275230408), (Area <= 45473.0) ∴ (Class == SIRA)\n",
        "\n",
        "amostras: 25\n",
        "\n",
        "\n",
        "(Area > 45473.0) ∴ (Class == SEKER)\n",
        "\n",
        "amostras: 92\n",
        "\n",
        "\n",
        "(Perimeter > 897.3164978027344), (MinorAxisLength <= 313.8231506347656), \n",
        "(Compactness <= 0.7847835123538971) ∴ (Class == CALI)\n",
        "\n",
        "amostras: 1855\n",
        "\n",
        "\n",
        "(Compactness > 0.7847835123538971) ∴ (Class == BARBUNYA)\n",
        "\n",
        "amostras: 1035\n",
        "\n",
        "\n",
        "(MinorAxisLength > 313.8231506347656), (roundness <= 0.7931346297264099) ∴ (Class == BARBUNYA)\n",
        "\n",
        "amostras: 1\n",
        "\n",
        "\n",
        "(roundness > 0.7931346297264099) ∴ (Class == BOMBAY)\n",
        "\n",
        "amostras: 515\n",
        "\n",
        "\n",
        "```\n",
        "\n"
      ],
      "metadata": {
        "id": "diKcNmBK-np-"
      }
    }
  ]
}