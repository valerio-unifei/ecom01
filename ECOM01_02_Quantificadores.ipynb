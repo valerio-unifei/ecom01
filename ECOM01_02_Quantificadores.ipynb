{
  "nbformat": 4,
  "nbformat_minor": 0,
  "metadata": {
    "colab": {
      "name": "ECOM01_02_Quantificadores.ipynb",
      "provenance": [],
      "collapsed_sections": [],
      "authorship_tag": "ABX9TyMSW/8nO0Edgr5bUdo8Vi3n",
      "include_colab_link": true
    },
    "kernelspec": {
      "name": "python3",
      "display_name": "Python 3"
    },
    "language_info": {
      "name": "python"
    }
  },
  "cells": [
    {
      "cell_type": "markdown",
      "metadata": {
        "id": "view-in-github",
        "colab_type": "text"
      },
      "source": [
        "<a href=\"https://colab.research.google.com/github/valerio-unifei/ecom01/blob/main/ECOM01_02_Quantificadores.ipynb\" target=\"_parent\"><img src=\"https://colab.research.google.com/assets/colab-badge.svg\" alt=\"Open In Colab\"/></a>"
      ]
    },
    {
      "cell_type": "markdown",
      "source": [
        "# Quantificadores"
      ],
      "metadata": {
        "id": "kK2TVAjXXW18"
      }
    },
    {
      "cell_type": "markdown",
      "source": [
        "Definição: ação que quantifique observações e experiências, traduzindo-as para números através de contagem e mensuração"
      ],
      "metadata": {
        "id": "Shh1z3sda3UC"
      }
    },
    {
      "cell_type": "markdown",
      "source": [
        "### Base de Dados"
      ],
      "metadata": {
        "id": "MW8BalzToikr"
      }
    },
    {
      "cell_type": "markdown",
      "source": [
        "Gerador de dados, com 50 linhas/casos, 4 atributos de entrada e 1 atributo de estado (falha), exemplificando um conjunto de 4 sensores que detectam um equipamento de falhar (1) ou funcionar normal (0)"
      ],
      "metadata": {
        "id": "Tyr5H3dgpIt0"
      }
    },
    {
      "cell_type": "code",
      "execution_count": null,
      "metadata": {
        "id": "gAHsaGHUWpq0"
      },
      "outputs": [],
      "source": [
        "from sklearn.datasets import make_classification\n",
        "import pandas as pd\n",
        "# gerador de dataset\n",
        "X,y = make_classification(n_samples=50, n_features=4, n_classes=2, random_state=2022)\n",
        "# nome dos atributos sensores\n",
        "atributos = [f's{i:0>2}' for i in range(1,X.shape[1]+1)]\n",
        "# Montando estrutura no DataFrame\n",
        "df = pd.DataFrame(data=X, columns=atributos)\n",
        "df['falha'] = y\n",
        "df.head()"
      ]
    },
    {
      "cell_type": "code",
      "source": [
        "df.describe().T"
      ],
      "metadata": {
        "id": "hNbBHipdqB0_"
      },
      "execution_count": null,
      "outputs": []
    },
    {
      "cell_type": "code",
      "source": [
        "from sklearn import tree\n",
        "\n",
        "clf = tree.DecisionTreeClassifier(random_state=42,max_depth=4)\n",
        "clf.fit(X,y)\n",
        "print('Acurácia =',clf.score(X,y))\n",
        "print(tree.export_text(clf,feature_names=atributos,decimals=4,show_weights=True))"
      ],
      "metadata": {
        "id": "oJiuc8LwxsoJ"
      },
      "execution_count": null,
      "outputs": []
    },
    {
      "cell_type": "markdown",
      "source": [
        "## Predicado"
      ],
      "metadata": {
        "id": "za3w5OWzpbwx"
      }
    },
    {
      "cell_type": "markdown",
      "source": [
        "Definição: Função booleana lógica que interpreta um valor de entrada e retorna se é verdadeiro ou falso para a função."
      ],
      "metadata": {
        "id": "HkHsy9jopdzT"
      }
    },
    {
      "cell_type": "markdown",
      "source": [
        "Exemplo:\n",
        "\n",
        "Predicado(x) simboliza (x <= 0.0)"
      ],
      "metadata": {
        "id": "HHtebh1LwRnH"
      }
    },
    {
      "cell_type": "code",
      "source": [
        "# função predicado lógica\n",
        "def Predicado(X):\n",
        "  return X <= 0.0\n",
        "\n",
        "# executando função sobre atributo do sensor 2\n",
        "Predicado(df['s02'])"
      ],
      "metadata": {
        "id": "qIzfuco5rNuX"
      },
      "execution_count": null,
      "outputs": []
    },
    {
      "cell_type": "markdown",
      "source": [
        "## Quantificador Universal (∀)"
      ],
      "metadata": {
        "id": "dLBKtpURrrg4"
      }
    },
    {
      "cell_type": "markdown",
      "source": [
        "O quantificador universal \"para todo\" toma uma variável e uma fórmula e afirma que a fórmula pode assumir qualquer valor para um dado x. "
      ],
      "metadata": {
        "id": "EDl-m5D9r2AI"
      }
    },
    {
      "cell_type": "markdown",
      "source": [
        "Exemplo:\n",
        "\n",
        "∀x, x+1>x"
      ],
      "metadata": {
        "id": "4LfF43iZsFsD"
      }
    },
    {
      "cell_type": "code",
      "source": [
        "def P1(x):\n",
        "  return (x + 1) > x\n",
        "\n",
        "p1 = P1(df['s03'])\n",
        "p1"
      ],
      "metadata": {
        "id": "JvxBDT8wr0tl"
      },
      "execution_count": null,
      "outputs": []
    },
    {
      "cell_type": "code",
      "source": [
        "len(df[P1(df['s03'])]) == len(df)"
      ],
      "metadata": {
        "id": "eDEnGwY2t1-z"
      },
      "execution_count": null,
      "outputs": []
    },
    {
      "cell_type": "markdown",
      "source": [
        "## Quantificador Existencial (∃)"
      ],
      "metadata": {
        "id": "zZkWvgc1t8hf"
      }
    },
    {
      "cell_type": "markdown",
      "source": [
        "O símbolo correspondente para o quantificador existencial é ∃ , a letra \"E\" rotacionada, que se lê como \"existe\". "
      ],
      "metadata": {
        "id": "ySSA6W7cuCU0"
      }
    },
    {
      "cell_type": "markdown",
      "source": [
        "Exemplo:\n",
        "\n",
        "∃x, x*x > 2"
      ],
      "metadata": {
        "id": "0KY5IUKjuS9o"
      }
    },
    {
      "cell_type": "code",
      "source": [
        "def P2(x):\n",
        "  return x*x > 2\n",
        "\n",
        "P2(df['s04'])"
      ],
      "metadata": {
        "id": "YP79txPEt8IE"
      },
      "execution_count": null,
      "outputs": []
    },
    {
      "cell_type": "code",
      "source": [
        "len(P2(df['s04'])) > 0"
      ],
      "metadata": {
        "id": "UMSogIg4uinC"
      },
      "execution_count": null,
      "outputs": []
    },
    {
      "cell_type": "markdown",
      "source": [
        "## Negação de Quantificadores"
      ],
      "metadata": {
        "id": "06U-yafYu6Tp"
      }
    },
    {
      "cell_type": "markdown",
      "source": [
        "Exemplo de expressão quantificada:\n",
        "*  \"Todos os alunos (∀) desta classe **fizeram Fundamentos de Programação** {P(x)}.\"\n",
        "\n",
        "Invertendo a expressão:\n",
        "*  \"Há alunos (∃) nesta classe que **NÃO fizeram Fundamentos de Programação** {~P(x)}.\"\n",
        "\n",
        "Demonstra que a negação de um enunciado quantificado universalmente é um enunciado existencial.\n",
        "\n",
        "¬∀x P(x) ≡ ∃x ¬P(x) \n",
        "\n",
        "Da mesma forma, a negação de um enunciado existencial é um enunciado universal.\n",
        "\n",
        "¬∃x P(x) ≡ ∀x ¬P(x)"
      ],
      "metadata": {
        "id": "8Wu2aDnfvj-E"
      }
    },
    {
      "cell_type": "markdown",
      "source": [
        "Exemplo:\n",
        "\n",
        "¬∀x,y P3(x,y) onde P3 é (x > y) ≡ ∃x,y ¬P3(x,y) "
      ],
      "metadata": {
        "id": "kKyPEL0AwMvx"
      }
    },
    {
      "cell_type": "code",
      "source": [
        "def P3(x, y):\n",
        "  return x > y\n",
        "\n",
        "~ P3(df['s01'],df['s03'])"
      ],
      "metadata": {
        "id": "qDIeo2w3vQGc"
      },
      "execution_count": null,
      "outputs": []
    },
    {
      "cell_type": "code",
      "source": [
        "len( df[ ~ P3(df['s01'],df['s03']) ] )"
      ],
      "metadata": {
        "id": "_aJG0s0axDjR"
      },
      "execution_count": null,
      "outputs": []
    },
    {
      "cell_type": "markdown",
      "source": [
        "## Quantificadores Aninhados"
      ],
      "metadata": {
        "id": "LDvE3z_OyrL1"
      }
    },
    {
      "cell_type": "markdown",
      "source": [
        "Há momentos em que será necessário mais de um quantificador para expressar uma afirmação.\n",
        "\n",
        "*  \"Para todos os inteiros 'x', existe um inteiro 'y', de tal modo que (x < y).\"\n",
        "\n",
        "∀x ∃y S(x,y)"
      ],
      "metadata": {
        "id": "er9wZc5fy4bL"
      }
    },
    {
      "cell_type": "code",
      "source": [
        "def S(x, y):\n",
        "  return x < y\n",
        "\n",
        "print(\"S(df['s01'],-1) =\", len( df[S(df['s01'],-1)] ))\n",
        "print(\"S(df['s01'],1) =\", len( df[S(df['s01'],1)] ))\n",
        "print(\"S(df['s01'],2) =\", len( df[S(df['s01'],2)] ))\n",
        "print(\"S(df['s01'],3) =\", len( df[S(df['s01'],3)] ))"
      ],
      "metadata": {
        "id": "q3Q4rR03zLtX"
      },
      "execution_count": null,
      "outputs": []
    },
    {
      "cell_type": "markdown",
      "source": [
        "## Expressões Complexas"
      ],
      "metadata": {
        "id": "4plJjmPWxbni"
      }
    },
    {
      "cell_type": "markdown",
      "source": [
        "\n",
        "\n",
        "```\n",
        "|--- s01 <= -0.1555\n",
        "|   |--- s03 <= -2.2333\n",
        "|   |   |--- weights: [0.0000, 2.0000] class: 1\n",
        "|   |--- s03 >  -2.2333\n",
        "|   |   |--- s04 <= 0.4150\n",
        "|   |   |   |--- s02 <= 0.3456\n",
        "|   |   |   |   |--- weights: [0.0000, 2.0000] class: 1\n",
        "|   |   |   |--- s02 >  0.3456\n",
        "|   |   |   |   |--- weights: [6.0000, 0.0000] class: 0\n",
        "|   |   |--- s04 >  0.4150\n",
        "|   |   |   |--- weights: [17.0000, 0.0000] class: 0\n",
        "|--- s01 >  -0.1555\n",
        "|   |--- s02 <= 1.2485\n",
        "|   |   |--- weights: [0.0000, 21.0000] class: 1\n",
        "|   |--- s02 >  1.2485\n",
        "|   |   |--- weights: [2.0000, 0.0000] class: 0\n",
        "```\n",
        "\n"
      ],
      "metadata": {
        "id": "_otWKrU_ylbZ"
      }
    },
    {
      "cell_type": "code",
      "source": [
        ""
      ],
      "metadata": {
        "id": "HWJgp5_wynYq"
      },
      "execution_count": null,
      "outputs": []
    }
  ]
}