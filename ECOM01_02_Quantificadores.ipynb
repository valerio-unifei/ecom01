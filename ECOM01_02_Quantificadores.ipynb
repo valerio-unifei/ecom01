{
  "nbformat": 4,
  "nbformat_minor": 0,
  "metadata": {
    "colab": {
      "name": "ECOM01_02_Quantificadores.ipynb",
      "provenance": [],
      "collapsed_sections": [],
      "authorship_tag": "ABX9TyM93NKjPPHlgmnJoiFuk3vO",
      "include_colab_link": true
    },
    "kernelspec": {
      "name": "python3",
      "display_name": "Python 3"
    },
    "language_info": {
      "name": "python"
    }
  },
  "cells": [
    {
      "cell_type": "markdown",
      "metadata": {
        "id": "view-in-github",
        "colab_type": "text"
      },
      "source": [
        "<a href=\"https://colab.research.google.com/github/valerio-unifei/ecom01/blob/main/ECOM01_02_Quantificadores.ipynb\" target=\"_parent\"><img src=\"https://colab.research.google.com/assets/colab-badge.svg\" alt=\"Open In Colab\"/></a>"
      ]
    },
    {
      "cell_type": "markdown",
      "source": [
        "# Quantificadores"
      ],
      "metadata": {
        "id": "kK2TVAjXXW18"
      }
    },
    {
      "cell_type": "markdown",
      "source": [
        "Definição: ação que quantifique observações e experiências, traduzindo-as para números através de contagem e mensuração"
      ],
      "metadata": {
        "id": "Shh1z3sda3UC"
      }
    },
    {
      "cell_type": "markdown",
      "source": [
        "### Base de Dados"
      ],
      "metadata": {
        "id": "MW8BalzToikr"
      }
    },
    {
      "cell_type": "markdown",
      "source": [
        "Gerador de dados, com 50 linhas/casos, 4 atributos de entrada e 1 atributo de estado (falha), exemplificando um conjunto de 4 sensores que detectam um equipamento de falhar (1) ou funcionar normal (0)"
      ],
      "metadata": {
        "id": "Tyr5H3dgpIt0"
      }
    },
    {
      "cell_type": "code",
      "execution_count": 1,
      "metadata": {
        "id": "gAHsaGHUWpq0",
        "outputId": "cd58966b-63ab-4722-defe-b03ac6bf2f38",
        "colab": {
          "base_uri": "https://localhost:8080/",
          "height": 206
        }
      },
      "outputs": [
        {
          "output_type": "execute_result",
          "data": {
            "text/plain": [
              "        s01       s02       s03       s04  falha\n",
              "0 -0.481956 -0.632660 -0.841538  0.728696      0\n",
              "1  1.524637  0.675149  1.020000 -1.405003      1\n",
              "2  1.149893  0.578514  0.855115 -1.106710      1\n",
              "3 -0.337477  0.480755  0.554541 -0.116751      0\n",
              "4  2.006336 -0.490501 -0.365175 -0.912936      1"
            ],
            "text/html": [
              "\n",
              "  <div id=\"df-7a5da69e-225b-42be-b247-9dee44711068\">\n",
              "    <div class=\"colab-df-container\">\n",
              "      <div>\n",
              "<style scoped>\n",
              "    .dataframe tbody tr th:only-of-type {\n",
              "        vertical-align: middle;\n",
              "    }\n",
              "\n",
              "    .dataframe tbody tr th {\n",
              "        vertical-align: top;\n",
              "    }\n",
              "\n",
              "    .dataframe thead th {\n",
              "        text-align: right;\n",
              "    }\n",
              "</style>\n",
              "<table border=\"1\" class=\"dataframe\">\n",
              "  <thead>\n",
              "    <tr style=\"text-align: right;\">\n",
              "      <th></th>\n",
              "      <th>s01</th>\n",
              "      <th>s02</th>\n",
              "      <th>s03</th>\n",
              "      <th>s04</th>\n",
              "      <th>falha</th>\n",
              "    </tr>\n",
              "  </thead>\n",
              "  <tbody>\n",
              "    <tr>\n",
              "      <th>0</th>\n",
              "      <td>-0.481956</td>\n",
              "      <td>-0.632660</td>\n",
              "      <td>-0.841538</td>\n",
              "      <td>0.728696</td>\n",
              "      <td>0</td>\n",
              "    </tr>\n",
              "    <tr>\n",
              "      <th>1</th>\n",
              "      <td>1.524637</td>\n",
              "      <td>0.675149</td>\n",
              "      <td>1.020000</td>\n",
              "      <td>-1.405003</td>\n",
              "      <td>1</td>\n",
              "    </tr>\n",
              "    <tr>\n",
              "      <th>2</th>\n",
              "      <td>1.149893</td>\n",
              "      <td>0.578514</td>\n",
              "      <td>0.855115</td>\n",
              "      <td>-1.106710</td>\n",
              "      <td>1</td>\n",
              "    </tr>\n",
              "    <tr>\n",
              "      <th>3</th>\n",
              "      <td>-0.337477</td>\n",
              "      <td>0.480755</td>\n",
              "      <td>0.554541</td>\n",
              "      <td>-0.116751</td>\n",
              "      <td>0</td>\n",
              "    </tr>\n",
              "    <tr>\n",
              "      <th>4</th>\n",
              "      <td>2.006336</td>\n",
              "      <td>-0.490501</td>\n",
              "      <td>-0.365175</td>\n",
              "      <td>-0.912936</td>\n",
              "      <td>1</td>\n",
              "    </tr>\n",
              "  </tbody>\n",
              "</table>\n",
              "</div>\n",
              "      <button class=\"colab-df-convert\" onclick=\"convertToInteractive('df-7a5da69e-225b-42be-b247-9dee44711068')\"\n",
              "              title=\"Convert this dataframe to an interactive table.\"\n",
              "              style=\"display:none;\">\n",
              "        \n",
              "  <svg xmlns=\"http://www.w3.org/2000/svg\" height=\"24px\"viewBox=\"0 0 24 24\"\n",
              "       width=\"24px\">\n",
              "    <path d=\"M0 0h24v24H0V0z\" fill=\"none\"/>\n",
              "    <path d=\"M18.56 5.44l.94 2.06.94-2.06 2.06-.94-2.06-.94-.94-2.06-.94 2.06-2.06.94zm-11 1L8.5 8.5l.94-2.06 2.06-.94-2.06-.94L8.5 2.5l-.94 2.06-2.06.94zm10 10l.94 2.06.94-2.06 2.06-.94-2.06-.94-.94-2.06-.94 2.06-2.06.94z\"/><path d=\"M17.41 7.96l-1.37-1.37c-.4-.4-.92-.59-1.43-.59-.52 0-1.04.2-1.43.59L10.3 9.45l-7.72 7.72c-.78.78-.78 2.05 0 2.83L4 21.41c.39.39.9.59 1.41.59.51 0 1.02-.2 1.41-.59l7.78-7.78 2.81-2.81c.8-.78.8-2.07 0-2.86zM5.41 20L4 18.59l7.72-7.72 1.47 1.35L5.41 20z\"/>\n",
              "  </svg>\n",
              "      </button>\n",
              "      \n",
              "  <style>\n",
              "    .colab-df-container {\n",
              "      display:flex;\n",
              "      flex-wrap:wrap;\n",
              "      gap: 12px;\n",
              "    }\n",
              "\n",
              "    .colab-df-convert {\n",
              "      background-color: #E8F0FE;\n",
              "      border: none;\n",
              "      border-radius: 50%;\n",
              "      cursor: pointer;\n",
              "      display: none;\n",
              "      fill: #1967D2;\n",
              "      height: 32px;\n",
              "      padding: 0 0 0 0;\n",
              "      width: 32px;\n",
              "    }\n",
              "\n",
              "    .colab-df-convert:hover {\n",
              "      background-color: #E2EBFA;\n",
              "      box-shadow: 0px 1px 2px rgba(60, 64, 67, 0.3), 0px 1px 3px 1px rgba(60, 64, 67, 0.15);\n",
              "      fill: #174EA6;\n",
              "    }\n",
              "\n",
              "    [theme=dark] .colab-df-convert {\n",
              "      background-color: #3B4455;\n",
              "      fill: #D2E3FC;\n",
              "    }\n",
              "\n",
              "    [theme=dark] .colab-df-convert:hover {\n",
              "      background-color: #434B5C;\n",
              "      box-shadow: 0px 1px 3px 1px rgba(0, 0, 0, 0.15);\n",
              "      filter: drop-shadow(0px 1px 2px rgba(0, 0, 0, 0.3));\n",
              "      fill: #FFFFFF;\n",
              "    }\n",
              "  </style>\n",
              "\n",
              "      <script>\n",
              "        const buttonEl =\n",
              "          document.querySelector('#df-7a5da69e-225b-42be-b247-9dee44711068 button.colab-df-convert');\n",
              "        buttonEl.style.display =\n",
              "          google.colab.kernel.accessAllowed ? 'block' : 'none';\n",
              "\n",
              "        async function convertToInteractive(key) {\n",
              "          const element = document.querySelector('#df-7a5da69e-225b-42be-b247-9dee44711068');\n",
              "          const dataTable =\n",
              "            await google.colab.kernel.invokeFunction('convertToInteractive',\n",
              "                                                     [key], {});\n",
              "          if (!dataTable) return;\n",
              "\n",
              "          const docLinkHtml = 'Like what you see? Visit the ' +\n",
              "            '<a target=\"_blank\" href=https://colab.research.google.com/notebooks/data_table.ipynb>data table notebook</a>'\n",
              "            + ' to learn more about interactive tables.';\n",
              "          element.innerHTML = '';\n",
              "          dataTable['output_type'] = 'display_data';\n",
              "          await google.colab.output.renderOutput(dataTable, element);\n",
              "          const docLink = document.createElement('div');\n",
              "          docLink.innerHTML = docLinkHtml;\n",
              "          element.appendChild(docLink);\n",
              "        }\n",
              "      </script>\n",
              "    </div>\n",
              "  </div>\n",
              "  "
            ]
          },
          "metadata": {},
          "execution_count": 1
        }
      ],
      "source": [
        "from sklearn.datasets import make_classification\n",
        "import pandas as pd\n",
        "# gerador de dataset\n",
        "X,y = make_classification(n_samples=50, n_features=4, n_classes=2, random_state=2022)\n",
        "# nome dos atributos sensores\n",
        "atributos = [f's{i:0>2}' for i in range(1,X.shape[1]+1)]\n",
        "# Montando estrutura no DataFrame\n",
        "df = pd.DataFrame(data=X, columns=atributos)\n",
        "df['falha'] = y\n",
        "df.head()"
      ]
    },
    {
      "cell_type": "code",
      "source": [
        "df.describe().T"
      ],
      "metadata": {
        "id": "hNbBHipdqB0_",
        "outputId": "0e3bd766-5237-4668-ef64-154f4957cdea",
        "colab": {
          "base_uri": "https://localhost:8080/",
          "height": 206
        }
      },
      "execution_count": 2,
      "outputs": [
        {
          "output_type": "execute_result",
          "data": {
            "text/plain": [
              "       count      mean       std       min       25%       50%       75%  \\\n",
              "s01     50.0 -0.089043  1.251990 -2.461575 -1.115075 -0.314773  1.019948   \n",
              "s02     50.0 -0.112643  1.086723 -2.945701 -0.836686  0.267565  0.597593   \n",
              "s03     50.0 -0.150223  1.368859 -3.700070 -1.152482  0.242740  0.835604   \n",
              "s04     50.0  0.131749  1.123485 -2.887804 -0.701056  0.317693  1.036027   \n",
              "falha   50.0  0.500000  0.505076  0.000000  0.000000  0.500000  1.000000   \n",
              "\n",
              "            max  \n",
              "s01    2.121404  \n",
              "s02    2.533430  \n",
              "s03    3.363993  \n",
              "s04    2.270409  \n",
              "falha  1.000000  "
            ],
            "text/html": [
              "\n",
              "  <div id=\"df-f0b54451-1798-4c59-9375-39614c4ab3b8\">\n",
              "    <div class=\"colab-df-container\">\n",
              "      <div>\n",
              "<style scoped>\n",
              "    .dataframe tbody tr th:only-of-type {\n",
              "        vertical-align: middle;\n",
              "    }\n",
              "\n",
              "    .dataframe tbody tr th {\n",
              "        vertical-align: top;\n",
              "    }\n",
              "\n",
              "    .dataframe thead th {\n",
              "        text-align: right;\n",
              "    }\n",
              "</style>\n",
              "<table border=\"1\" class=\"dataframe\">\n",
              "  <thead>\n",
              "    <tr style=\"text-align: right;\">\n",
              "      <th></th>\n",
              "      <th>count</th>\n",
              "      <th>mean</th>\n",
              "      <th>std</th>\n",
              "      <th>min</th>\n",
              "      <th>25%</th>\n",
              "      <th>50%</th>\n",
              "      <th>75%</th>\n",
              "      <th>max</th>\n",
              "    </tr>\n",
              "  </thead>\n",
              "  <tbody>\n",
              "    <tr>\n",
              "      <th>s01</th>\n",
              "      <td>50.0</td>\n",
              "      <td>-0.089043</td>\n",
              "      <td>1.251990</td>\n",
              "      <td>-2.461575</td>\n",
              "      <td>-1.115075</td>\n",
              "      <td>-0.314773</td>\n",
              "      <td>1.019948</td>\n",
              "      <td>2.121404</td>\n",
              "    </tr>\n",
              "    <tr>\n",
              "      <th>s02</th>\n",
              "      <td>50.0</td>\n",
              "      <td>-0.112643</td>\n",
              "      <td>1.086723</td>\n",
              "      <td>-2.945701</td>\n",
              "      <td>-0.836686</td>\n",
              "      <td>0.267565</td>\n",
              "      <td>0.597593</td>\n",
              "      <td>2.533430</td>\n",
              "    </tr>\n",
              "    <tr>\n",
              "      <th>s03</th>\n",
              "      <td>50.0</td>\n",
              "      <td>-0.150223</td>\n",
              "      <td>1.368859</td>\n",
              "      <td>-3.700070</td>\n",
              "      <td>-1.152482</td>\n",
              "      <td>0.242740</td>\n",
              "      <td>0.835604</td>\n",
              "      <td>3.363993</td>\n",
              "    </tr>\n",
              "    <tr>\n",
              "      <th>s04</th>\n",
              "      <td>50.0</td>\n",
              "      <td>0.131749</td>\n",
              "      <td>1.123485</td>\n",
              "      <td>-2.887804</td>\n",
              "      <td>-0.701056</td>\n",
              "      <td>0.317693</td>\n",
              "      <td>1.036027</td>\n",
              "      <td>2.270409</td>\n",
              "    </tr>\n",
              "    <tr>\n",
              "      <th>falha</th>\n",
              "      <td>50.0</td>\n",
              "      <td>0.500000</td>\n",
              "      <td>0.505076</td>\n",
              "      <td>0.000000</td>\n",
              "      <td>0.000000</td>\n",
              "      <td>0.500000</td>\n",
              "      <td>1.000000</td>\n",
              "      <td>1.000000</td>\n",
              "    </tr>\n",
              "  </tbody>\n",
              "</table>\n",
              "</div>\n",
              "      <button class=\"colab-df-convert\" onclick=\"convertToInteractive('df-f0b54451-1798-4c59-9375-39614c4ab3b8')\"\n",
              "              title=\"Convert this dataframe to an interactive table.\"\n",
              "              style=\"display:none;\">\n",
              "        \n",
              "  <svg xmlns=\"http://www.w3.org/2000/svg\" height=\"24px\"viewBox=\"0 0 24 24\"\n",
              "       width=\"24px\">\n",
              "    <path d=\"M0 0h24v24H0V0z\" fill=\"none\"/>\n",
              "    <path d=\"M18.56 5.44l.94 2.06.94-2.06 2.06-.94-2.06-.94-.94-2.06-.94 2.06-2.06.94zm-11 1L8.5 8.5l.94-2.06 2.06-.94-2.06-.94L8.5 2.5l-.94 2.06-2.06.94zm10 10l.94 2.06.94-2.06 2.06-.94-2.06-.94-.94-2.06-.94 2.06-2.06.94z\"/><path d=\"M17.41 7.96l-1.37-1.37c-.4-.4-.92-.59-1.43-.59-.52 0-1.04.2-1.43.59L10.3 9.45l-7.72 7.72c-.78.78-.78 2.05 0 2.83L4 21.41c.39.39.9.59 1.41.59.51 0 1.02-.2 1.41-.59l7.78-7.78 2.81-2.81c.8-.78.8-2.07 0-2.86zM5.41 20L4 18.59l7.72-7.72 1.47 1.35L5.41 20z\"/>\n",
              "  </svg>\n",
              "      </button>\n",
              "      \n",
              "  <style>\n",
              "    .colab-df-container {\n",
              "      display:flex;\n",
              "      flex-wrap:wrap;\n",
              "      gap: 12px;\n",
              "    }\n",
              "\n",
              "    .colab-df-convert {\n",
              "      background-color: #E8F0FE;\n",
              "      border: none;\n",
              "      border-radius: 50%;\n",
              "      cursor: pointer;\n",
              "      display: none;\n",
              "      fill: #1967D2;\n",
              "      height: 32px;\n",
              "      padding: 0 0 0 0;\n",
              "      width: 32px;\n",
              "    }\n",
              "\n",
              "    .colab-df-convert:hover {\n",
              "      background-color: #E2EBFA;\n",
              "      box-shadow: 0px 1px 2px rgba(60, 64, 67, 0.3), 0px 1px 3px 1px rgba(60, 64, 67, 0.15);\n",
              "      fill: #174EA6;\n",
              "    }\n",
              "\n",
              "    [theme=dark] .colab-df-convert {\n",
              "      background-color: #3B4455;\n",
              "      fill: #D2E3FC;\n",
              "    }\n",
              "\n",
              "    [theme=dark] .colab-df-convert:hover {\n",
              "      background-color: #434B5C;\n",
              "      box-shadow: 0px 1px 3px 1px rgba(0, 0, 0, 0.15);\n",
              "      filter: drop-shadow(0px 1px 2px rgba(0, 0, 0, 0.3));\n",
              "      fill: #FFFFFF;\n",
              "    }\n",
              "  </style>\n",
              "\n",
              "      <script>\n",
              "        const buttonEl =\n",
              "          document.querySelector('#df-f0b54451-1798-4c59-9375-39614c4ab3b8 button.colab-df-convert');\n",
              "        buttonEl.style.display =\n",
              "          google.colab.kernel.accessAllowed ? 'block' : 'none';\n",
              "\n",
              "        async function convertToInteractive(key) {\n",
              "          const element = document.querySelector('#df-f0b54451-1798-4c59-9375-39614c4ab3b8');\n",
              "          const dataTable =\n",
              "            await google.colab.kernel.invokeFunction('convertToInteractive',\n",
              "                                                     [key], {});\n",
              "          if (!dataTable) return;\n",
              "\n",
              "          const docLinkHtml = 'Like what you see? Visit the ' +\n",
              "            '<a target=\"_blank\" href=https://colab.research.google.com/notebooks/data_table.ipynb>data table notebook</a>'\n",
              "            + ' to learn more about interactive tables.';\n",
              "          element.innerHTML = '';\n",
              "          dataTable['output_type'] = 'display_data';\n",
              "          await google.colab.output.renderOutput(dataTable, element);\n",
              "          const docLink = document.createElement('div');\n",
              "          docLink.innerHTML = docLinkHtml;\n",
              "          element.appendChild(docLink);\n",
              "        }\n",
              "      </script>\n",
              "    </div>\n",
              "  </div>\n",
              "  "
            ]
          },
          "metadata": {},
          "execution_count": 2
        }
      ]
    },
    {
      "cell_type": "code",
      "source": [
        "from sklearn import tree\n",
        "\n",
        "clf = tree.DecisionTreeClassifier(random_state=42,max_depth=4)\n",
        "clf.fit(X,y)\n",
        "print('Acurácia =',clf.score(X,y))\n",
        "print(tree.export_text(clf,feature_names=atributos,decimals=4,show_weights=True))"
      ],
      "metadata": {
        "id": "oJiuc8LwxsoJ",
        "outputId": "4e8db4c4-ab28-44ff-d444-015f449bd9a2",
        "colab": {
          "base_uri": "https://localhost:8080/"
        }
      },
      "execution_count": 3,
      "outputs": [
        {
          "output_type": "stream",
          "name": "stdout",
          "text": [
            "Acurácia = 1.0\n",
            "|--- s01 <= -0.1555\n",
            "|   |--- s03 <= -2.2333\n",
            "|   |   |--- weights: [0.0000, 2.0000] class: 1\n",
            "|   |--- s03 >  -2.2333\n",
            "|   |   |--- s04 <= 0.4150\n",
            "|   |   |   |--- s02 <= 0.3456\n",
            "|   |   |   |   |--- weights: [0.0000, 2.0000] class: 1\n",
            "|   |   |   |--- s02 >  0.3456\n",
            "|   |   |   |   |--- weights: [6.0000, 0.0000] class: 0\n",
            "|   |   |--- s04 >  0.4150\n",
            "|   |   |   |--- weights: [17.0000, 0.0000] class: 0\n",
            "|--- s01 >  -0.1555\n",
            "|   |--- s02 <= 1.2485\n",
            "|   |   |--- weights: [0.0000, 21.0000] class: 1\n",
            "|   |--- s02 >  1.2485\n",
            "|   |   |--- weights: [2.0000, 0.0000] class: 0\n",
            "\n"
          ]
        }
      ]
    },
    {
      "cell_type": "markdown",
      "source": [
        "## Predicado"
      ],
      "metadata": {
        "id": "za3w5OWzpbwx"
      }
    },
    {
      "cell_type": "markdown",
      "source": [
        "Definição: Função booleana lógica que interpreta um valor de entrada e retorna se é verdadeiro ou falso para a função."
      ],
      "metadata": {
        "id": "HkHsy9jopdzT"
      }
    },
    {
      "cell_type": "markdown",
      "source": [
        "Exemplo:\n",
        "\n",
        "Predicado(x) simboliza (x <= 0.0)"
      ],
      "metadata": {
        "id": "HHtebh1LwRnH"
      }
    },
    {
      "cell_type": "code",
      "source": [
        "# função predicado lógica\n",
        "def Predicado(X):\n",
        "  return X <= 0.0\n",
        "\n",
        "# executando função sobre atributo do sensor 2\n",
        "Predicado(df['s02'])"
      ],
      "metadata": {
        "id": "qIzfuco5rNuX",
        "outputId": "0e7cf2a0-0305-4013-ae46-923c87d3175b",
        "colab": {
          "base_uri": "https://localhost:8080/"
        }
      },
      "execution_count": 4,
      "outputs": [
        {
          "output_type": "execute_result",
          "data": {
            "text/plain": [
              "0      True\n",
              "1     False\n",
              "2     False\n",
              "3     False\n",
              "4      True\n",
              "5     False\n",
              "6     False\n",
              "7     False\n",
              "8     False\n",
              "9      True\n",
              "10     True\n",
              "11     True\n",
              "12     True\n",
              "13     True\n",
              "14    False\n",
              "15     True\n",
              "16     True\n",
              "17    False\n",
              "18     True\n",
              "19    False\n",
              "20     True\n",
              "21     True\n",
              "22    False\n",
              "23     True\n",
              "24     True\n",
              "25     True\n",
              "26    False\n",
              "27    False\n",
              "28    False\n",
              "29    False\n",
              "30    False\n",
              "31    False\n",
              "32     True\n",
              "33     True\n",
              "34    False\n",
              "35    False\n",
              "36     True\n",
              "37    False\n",
              "38    False\n",
              "39    False\n",
              "40     True\n",
              "41     True\n",
              "42     True\n",
              "43    False\n",
              "44    False\n",
              "45    False\n",
              "46    False\n",
              "47     True\n",
              "48     True\n",
              "49    False\n",
              "Name: s02, dtype: bool"
            ]
          },
          "metadata": {},
          "execution_count": 4
        }
      ]
    },
    {
      "cell_type": "markdown",
      "source": [
        "## Quantificador Universal (∀)"
      ],
      "metadata": {
        "id": "dLBKtpURrrg4"
      }
    },
    {
      "cell_type": "markdown",
      "source": [
        "O quantificador universal \"para todo\" toma uma variável e uma fórmula e afirma que a fórmula pode assumir qualquer valor para um dado x. "
      ],
      "metadata": {
        "id": "EDl-m5D9r2AI"
      }
    },
    {
      "cell_type": "markdown",
      "source": [
        "Exemplo:\n",
        "\n",
        "∀x, x+1>x"
      ],
      "metadata": {
        "id": "4LfF43iZsFsD"
      }
    },
    {
      "cell_type": "code",
      "source": [
        "def P1(x):\n",
        "  return (x + 1) > x\n",
        "\n",
        "p1 = P1(df['s03'])\n",
        "p1"
      ],
      "metadata": {
        "id": "JvxBDT8wr0tl",
        "outputId": "3507007a-576d-4184-fbed-c58b4ec46f86",
        "colab": {
          "base_uri": "https://localhost:8080/"
        }
      },
      "execution_count": 5,
      "outputs": [
        {
          "output_type": "execute_result",
          "data": {
            "text/plain": [
              "0     True\n",
              "1     True\n",
              "2     True\n",
              "3     True\n",
              "4     True\n",
              "5     True\n",
              "6     True\n",
              "7     True\n",
              "8     True\n",
              "9     True\n",
              "10    True\n",
              "11    True\n",
              "12    True\n",
              "13    True\n",
              "14    True\n",
              "15    True\n",
              "16    True\n",
              "17    True\n",
              "18    True\n",
              "19    True\n",
              "20    True\n",
              "21    True\n",
              "22    True\n",
              "23    True\n",
              "24    True\n",
              "25    True\n",
              "26    True\n",
              "27    True\n",
              "28    True\n",
              "29    True\n",
              "30    True\n",
              "31    True\n",
              "32    True\n",
              "33    True\n",
              "34    True\n",
              "35    True\n",
              "36    True\n",
              "37    True\n",
              "38    True\n",
              "39    True\n",
              "40    True\n",
              "41    True\n",
              "42    True\n",
              "43    True\n",
              "44    True\n",
              "45    True\n",
              "46    True\n",
              "47    True\n",
              "48    True\n",
              "49    True\n",
              "Name: s03, dtype: bool"
            ]
          },
          "metadata": {},
          "execution_count": 5
        }
      ]
    },
    {
      "cell_type": "code",
      "source": [
        "len(df[P1(df['s03'])]) == len(df)"
      ],
      "metadata": {
        "id": "eDEnGwY2t1-z",
        "outputId": "3058bd6b-4089-41bf-e20a-c8024f050a8b",
        "colab": {
          "base_uri": "https://localhost:8080/"
        }
      },
      "execution_count": 8,
      "outputs": [
        {
          "output_type": "execute_result",
          "data": {
            "text/plain": [
              "True"
            ]
          },
          "metadata": {},
          "execution_count": 8
        }
      ]
    },
    {
      "cell_type": "markdown",
      "source": [
        "## Quantificador Existencial (∃)"
      ],
      "metadata": {
        "id": "zZkWvgc1t8hf"
      }
    },
    {
      "cell_type": "markdown",
      "source": [
        "O símbolo correspondente para o quantificador existencial é ∃ , a letra \"E\" rotacionada, que se lê como \"existe\". "
      ],
      "metadata": {
        "id": "ySSA6W7cuCU0"
      }
    },
    {
      "cell_type": "markdown",
      "source": [
        "Exemplo:\n",
        "\n",
        "∃x, x*x > 2"
      ],
      "metadata": {
        "id": "0KY5IUKjuS9o"
      }
    },
    {
      "cell_type": "code",
      "source": [
        "def P2(x):\n",
        "  return x*x > 100\n",
        "\n",
        "P2(df['s04'])"
      ],
      "metadata": {
        "id": "YP79txPEt8IE",
        "outputId": "018fe240-a90e-4d4d-971a-85b57e7c3a33",
        "colab": {
          "base_uri": "https://localhost:8080/"
        }
      },
      "execution_count": 15,
      "outputs": [
        {
          "output_type": "execute_result",
          "data": {
            "text/plain": [
              "0     False\n",
              "1     False\n",
              "2     False\n",
              "3     False\n",
              "4     False\n",
              "5     False\n",
              "6     False\n",
              "7     False\n",
              "8     False\n",
              "9     False\n",
              "10    False\n",
              "11    False\n",
              "12    False\n",
              "13    False\n",
              "14    False\n",
              "15    False\n",
              "16    False\n",
              "17    False\n",
              "18    False\n",
              "19    False\n",
              "20    False\n",
              "21    False\n",
              "22    False\n",
              "23    False\n",
              "24    False\n",
              "25    False\n",
              "26    False\n",
              "27    False\n",
              "28    False\n",
              "29    False\n",
              "30    False\n",
              "31    False\n",
              "32    False\n",
              "33    False\n",
              "34    False\n",
              "35    False\n",
              "36    False\n",
              "37    False\n",
              "38    False\n",
              "39    False\n",
              "40    False\n",
              "41    False\n",
              "42    False\n",
              "43    False\n",
              "44    False\n",
              "45    False\n",
              "46    False\n",
              "47    False\n",
              "48    False\n",
              "49    False\n",
              "Name: s04, dtype: bool"
            ]
          },
          "metadata": {},
          "execution_count": 15
        }
      ]
    },
    {
      "cell_type": "code",
      "source": [
        "len(df[P2(df['s04'])]) > 0"
      ],
      "metadata": {
        "id": "UMSogIg4uinC",
        "outputId": "5b9a9873-aee7-4570-a32a-f108e4fc37f7",
        "colab": {
          "base_uri": "https://localhost:8080/"
        }
      },
      "execution_count": 16,
      "outputs": [
        {
          "output_type": "execute_result",
          "data": {
            "text/plain": [
              "False"
            ]
          },
          "metadata": {},
          "execution_count": 16
        }
      ]
    },
    {
      "cell_type": "markdown",
      "source": [
        "## Negação de Quantificadores"
      ],
      "metadata": {
        "id": "06U-yafYu6Tp"
      }
    },
    {
      "cell_type": "markdown",
      "source": [
        "Exemplo de expressão quantificada:\n",
        "*  \"Todos os alunos (∀) desta classe **fizeram Fundamentos de Programação** {P(x)}.\"\n",
        "\n",
        "Invertendo a expressão:\n",
        "*  \"Há alunos (∃) nesta classe que **NÃO fizeram Fundamentos de Programação** {~P(x)}.\"\n",
        "\n",
        "Demonstra que a negação de um enunciado quantificado universalmente é um enunciado existencial.\n",
        "\n",
        "¬∀x P(x) ≡ ∃x ¬P(x) \n",
        "\n",
        "Da mesma forma, a negação de um enunciado existencial é um enunciado universal.\n",
        "\n",
        "¬∃x P(x) ≡ ∀x ¬P(x)"
      ],
      "metadata": {
        "id": "8Wu2aDnfvj-E"
      }
    },
    {
      "cell_type": "markdown",
      "source": [
        "Exemplo:\n",
        "\n",
        "¬∀x,y P3(x,y) onde P3 é (x > y) ≡ ∃x,y ¬P3(x,y) "
      ],
      "metadata": {
        "id": "kKyPEL0AwMvx"
      }
    },
    {
      "cell_type": "code",
      "source": [
        "def P3(x, y):\n",
        "  return x > y\n",
        "\n",
        "~P3(df['s01'],df['s03'])"
      ],
      "metadata": {
        "id": "qDIeo2w3vQGc",
        "outputId": "0f5cdca0-9db0-4abc-f96e-6b0e3ea86f90",
        "colab": {
          "base_uri": "https://localhost:8080/"
        }
      },
      "execution_count": 19,
      "outputs": [
        {
          "output_type": "execute_result",
          "data": {
            "text/plain": [
              "0     False\n",
              "1     False\n",
              "2     False\n",
              "3      True\n",
              "4     False\n",
              "5     False\n",
              "6      True\n",
              "7      True\n",
              "8     False\n",
              "9      True\n",
              "10    False\n",
              "11    False\n",
              "12    False\n",
              "13    False\n",
              "14    False\n",
              "15    False\n",
              "16    False\n",
              "17     True\n",
              "18    False\n",
              "19     True\n",
              "20    False\n",
              "21     True\n",
              "22    False\n",
              "23    False\n",
              "24    False\n",
              "25     True\n",
              "26     True\n",
              "27    False\n",
              "28     True\n",
              "29     True\n",
              "30     True\n",
              "31     True\n",
              "32    False\n",
              "33    False\n",
              "34    False\n",
              "35     True\n",
              "36    False\n",
              "37     True\n",
              "38     True\n",
              "39     True\n",
              "40     True\n",
              "41    False\n",
              "42    False\n",
              "43     True\n",
              "44     True\n",
              "45    False\n",
              "46     True\n",
              "47    False\n",
              "48     True\n",
              "49     True\n",
              "dtype: bool"
            ]
          },
          "metadata": {},
          "execution_count": 19
        }
      ]
    },
    {
      "cell_type": "code",
      "source": [
        "len( df[ ~ P3(df['s01'],df['s03']) ] )"
      ],
      "metadata": {
        "id": "_aJG0s0axDjR",
        "outputId": "e25c343f-3903-4f02-fb36-403fb6391091",
        "colab": {
          "base_uri": "https://localhost:8080/"
        }
      },
      "execution_count": 20,
      "outputs": [
        {
          "output_type": "execute_result",
          "data": {
            "text/plain": [
              "23"
            ]
          },
          "metadata": {},
          "execution_count": 20
        }
      ]
    },
    {
      "cell_type": "markdown",
      "source": [
        "## Quantificadores Aninhados"
      ],
      "metadata": {
        "id": "LDvE3z_OyrL1"
      }
    },
    {
      "cell_type": "markdown",
      "source": [
        "Há momentos em que será necessário mais de um quantificador para expressar uma afirmação.\n",
        "\n",
        "*  \"Para todos os inteiros 'x', existe um inteiro 'y', de tal modo que (x < y).\"\n",
        "\n",
        "∀x ∃y S(x,y)"
      ],
      "metadata": {
        "id": "er9wZc5fy4bL"
      }
    },
    {
      "cell_type": "code",
      "source": [
        "def S(x, y):\n",
        "  return x < y\n",
        "\n",
        "for y in range(0,5):\n",
        "  print(\"S(df['s01'],\", y ,\") =\", len( df[S(df['s01'],y)] ))"
      ],
      "metadata": {
        "id": "q3Q4rR03zLtX",
        "outputId": "3b8b500e-356b-4bb8-85af-fe7f3a13d334",
        "colab": {
          "base_uri": "https://localhost:8080/"
        }
      },
      "execution_count": 21,
      "outputs": [
        {
          "output_type": "stream",
          "name": "stdout",
          "text": [
            "S(df['s01'], 0 ) = 29\n",
            "S(df['s01'], 1 ) = 37\n",
            "S(df['s01'], 2 ) = 48\n",
            "S(df['s01'], 3 ) = 50\n",
            "S(df['s01'], 4 ) = 50\n"
          ]
        }
      ]
    },
    {
      "cell_type": "markdown",
      "source": [
        "## Expressões Complexas"
      ],
      "metadata": {
        "id": "4plJjmPWxbni"
      }
    },
    {
      "cell_type": "markdown",
      "source": [
        "\n",
        "\n",
        "```\n",
        "|--- s01 <= -0.1555\n",
        "|   |--- s03 <= -2.2333\n",
        "|   |   |--- weights: [0.0000, 2.0000] class: 1\n",
        "\n",
        "```\n",
        "\n"
      ],
      "metadata": {
        "id": "_otWKrU_ylbZ"
      }
    },
    {
      "cell_type": "code",
      "source": [
        "def T1(s01):\n",
        "  return s01 <= -0.1555\n",
        "\n",
        "def T2(s03):\n",
        "  return s03 <-2.333\n",
        "\n",
        "r = T1(df['s01']) & T2(df['s03'])\n",
        "len(df[r])"
      ],
      "metadata": {
        "id": "HWJgp5_wynYq",
        "outputId": "d7cf9a54-2d0b-4362-c344-d82dd62f1916",
        "colab": {
          "base_uri": "https://localhost:8080/"
        }
      },
      "execution_count": 25,
      "outputs": [
        {
          "output_type": "execute_result",
          "data": {
            "text/plain": [
              "2"
            ]
          },
          "metadata": {},
          "execution_count": 25
        }
      ]
    },
    {
      "cell_type": "markdown",
      "source": [
        "\n",
        "\n",
        "```\n",
        "|   |--- s03 >  -2.2333\n",
        "|   |   |--- s04 <= 0.4150\n",
        "|   |   |   |--- s02 <= 0.3456\n",
        "|   |   |   |   |--- weights: [0.0000, 2.0000] class: 1\n",
        "|   |   |   |--- s02 >  0.3456\n",
        "|   |   |   |   |--- weights: [6.0000, 0.0000] class: 0\n",
        "|   |   |--- s04 >  0.4150\n",
        "|   |   |   |--- weights: [17.0000, 0.0000] class: 0\n",
        "|--- s01 >  -0.1555\n",
        "|   |--- s02 <= 1.2485\n",
        "|   |   |--- weights: [0.0000, 21.0000] class: 1\n",
        "|   |--- s02 >  1.2485\n",
        "|   |   |--- weights: [2.0000, 0.0000] class: 0\n",
        "```\n",
        "\n"
      ],
      "metadata": {
        "id": "kDjSoDIrcGKg"
      }
    }
  ]
}