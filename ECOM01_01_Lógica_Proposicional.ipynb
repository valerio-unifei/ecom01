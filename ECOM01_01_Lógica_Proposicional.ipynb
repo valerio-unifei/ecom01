{
  "cells": [
    {
      "cell_type": "markdown",
      "metadata": {
        "id": "view-in-github",
        "colab_type": "text"
      },
      "source": [
        "<a href=\"https://colab.research.google.com/github/valerio-unifei/ecom01/blob/main/ECOM01_01_L%C3%B3gica_Proposicional.ipynb\" target=\"_parent\"><img src=\"https://colab.research.google.com/assets/colab-badge.svg\" alt=\"Open In Colab\"/></a>"
      ]
    },
    {
      "cell_type": "markdown",
      "metadata": {
        "id": "_E1WwthkxodL"
      },
      "source": [
        "# Lógica Proposicional"
      ]
    },
    {
      "cell_type": "markdown",
      "source": [
        "## Definição\n",
        "\n",
        "> \"Poder-se-á definir a Lógica como a ciência das regras que legitimam\n",
        "a utilização da palavra portanto.\" B. Ruyer in Logique. \n",
        "\n",
        "### Proposição\n",
        "\n",
        "No caso das instruções *if* e *while*, a execução dum bloco de código está dependente da avaliação duma função proposicional (condição). Com o objectivo de estudar estas instruções e formalizar a noção de função proposicional começa-se por rever algumas noções de lógica proposicional e do cálculo de predicados."
      ],
      "metadata": {
        "id": "4qdQfOc1yaSa"
      }
    },
    {
      "cell_type": "markdown",
      "source": [
        ""
      ],
      "metadata": {
        "id": "2bt61chVyd8r"
      }
    },
    {
      "cell_type": "markdown",
      "metadata": {
        "id": "4vngW-7-xodR"
      },
      "source": [
        "Os elementos básicos da lógica são as *proposições* ou *sentenças* que se entendem como afirmações precisas. Na lógica clássica, que abordamos, a avaliação duma proposição é regida por dois princípios fundamentais:\n",
        "- **Princípio da não contradição** - Uma proposição não pode ser simultaneamente verdadeira e falsa;\n",
        "- **Princípio do terceiro excluído** - Uma proposição ou é verdadeira ou é falsa;\n",
        "\n",
        "Por exemplo \"1 é maior que 3\" é uma proposição cujo valor lógico é o de\n",
        "\"falsidade\" enquanto que \"todos os triângulos têm três lados e três ângulos\" é uma proposição cujo valor lógico é o de \"verdade\". \n",
        "\n",
        "Por outro lado \"*x < 3*\" não é uma proposição (depende do valor que venha a ser atribuído à variável *x*) sendo denominada *função proposicional*. \n",
        "\n",
        "Representam-se por letras (geralmente minúsculas) as proposições genéricas (ou variáveis proposicionais) e por 1 (ou V) e 0 (ou F) os valores lógicos de \"*verdade*\" e \"*falsidade*\", respectivamente. \n",
        "\n",
        "A área da lógica que trata as proposições neste contexto é designada por *cálculo proposicional* ou *lógica proposicional*.\n",
        "\n"
      ]
    },
    {
      "cell_type": "markdown",
      "source": [
        "### Proposição simples e proposição composta"
      ],
      "metadata": {
        "id": "xkFKHJA9ywMR"
      }
    },
    {
      "cell_type": "markdown",
      "source": [
        "Por vezes combinam-se várias proposições para obter proposições mais expressivas. Neste sentido, classificamos as proposições como **simples** (também denominada atómica) ou\n",
        "**composta** (também denominada molecular).\n",
        "\n",
        "As proposições simples apresentam apenas uma afirmação:\n",
        "      \n",
        "- $p:$ $\\sqrt{2}$ não é um número racional.\n",
        "\n",
        "- $q:$ existem mais números reais que inteiros.\n",
        "\n",
        "- $v:$ $1=2$.\n",
        "\n",
        "- $r:2+3>4$.\n",
        "\n",
        "As proposições compostas são definidas por uma ou por mais do que uma\n",
        "proposição, usando na sua formação **operadores lógicos**\n",
        "(também designados de **conectivas lógicas** ou operadores para formação de proposições):\n",
        "\n",
        "- $x = 2$ e $y = 1$.\n",
        "\n",
        "- se $x > y$ então $y < x$.\n",
        "\n",
        "- não é verdade que $2+3>4$."
      ],
      "metadata": {
        "id": "W3q4rSjpyuVy"
      }
    },
    {
      "cell_type": "markdown",
      "source": [
        "#### Conectivos lógicos"
      ],
      "metadata": {
        "id": "FoJbBq5Tyy_5"
      }
    },
    {
      "cell_type": "markdown",
      "metadata": {
        "id": "kSebP6d3xodV"
      },
      "source": [
        "Em cálculo proposicional as proposições são geradas a partir de proposições simples, usando operadores para formação de proposições. Vamos tomar como sintacticamente válidas proposições compostas da forma:\n",
        "\n",
        "- *não* $p$,\n",
        "- $p$ *e* $q$,\n",
        "- $p$ *ou* $q$,\n",
        "- *ou* $p$ *ou* (exclusivo) $q$,\n",
        "- *se* $p$ *então* $q$,\n",
        "- $p$ *se e só se* $q$.\n",
        "\n",
        "onde $p$ e $q$ são proposições (simples ou compostas). Neste casos, em geral, pretende-se obter os valores lógicos das proposições compostas em função dos valores lógicos conhecidos das proposições mais simples que as compõem. Por forma a podermos formalizar a lógica e a avaliação de proposições, convencionamos a seguinte representação para os operadores sintácticos usados na formação de proposições:"
      ]
    },
    {
      "cell_type": "markdown",
      "metadata": {
        "id": "cKHbNNgdxodW"
      },
      "source": [
        "Operações Lógicas | Símbolos | Notação | Significado\n",
        "------------------|----------|---------|------------\n",
        "Negação | $\\neg$ ou $\\sim$ | $\\neg p$ | não *p*\n",
        "Conjunção | $\\wedge$ | $p \\wedge q$ | *p* e *q*\n",
        "Disjunção | $\\vee$ | $p \\vee q$ | *p* ou *q* \n",
        "Disjunção exclusiva | $\\oplus$ ou $\\dot{\\vee}$ | $p\\oplus q$ |  ou *p* ou (exclusivo) *q* \n",
        "Implicação | $\\rightarrow$ | $p\\rightarrow q$ | se *p* então *q* \n",
        "Bi-implicação | $\\leftrightarrow$ | $p\\leftrightarrow q$ | *p* se só se *q*"
      ]
    },
    {
      "cell_type": "markdown",
      "source": [
        "#### Negação"
      ],
      "metadata": {
        "id": "cocyAP2HzHPA"
      }
    },
    {
      "cell_type": "markdown",
      "metadata": {
        "id": "0CIy72v-xodX"
      },
      "source": [
        "Seja $p$ uma proposição. A afirmação \"não se verifica que\n",
        "*p*\" é uma nova proposição, designada de **negação** de $p$. A\n",
        "negação de $p$ é denotada por $\\neg p$ ou $\\sim p$. A proposição\n",
        "$\\neg p$ deve ler-se \"não *p*\" e é verdadeira se *p* é falsa. A proposição $\\neg p$ é falsa se *p* é verdadeira.\n",
        "\n",
        "É usual definir a interpretação dum operador lógico através de\n",
        "tabelas do tipo:\n",
        "\n",
        "\n",
        "\n",
        "  $p$ | $\\neg p$\n",
        ":----:|:-------:\n",
        "  T | F \n",
        "  F | T\n",
        "\n",
        " ou \n",
        "\n",
        "  $p$ | $\\neg p$ \n",
        ":----:|:--------:  \n",
        "  1 | 0 \n",
        "  0 | 1\n",
        "\n",
        "stas tabelas são designadas por **tabelas de verdade**. Neste\n",
        "caso define completamente o operador negação, relacionando os\n",
        "valores lógicos de *p* e $\\neg p$.\n",
        "\n",
        "Note que, em linguagem corrente nem sempre se pode negar logicamente uma proposição,\n",
        "antepondo o advérbio \"não\" ao verbo da proposição, isto apenas se verifica nos casos mais simples.\n",
        "\n",
        "Por exemplo: negar \"Hoje é sábado.\" é afirmar \"Hoje não é sábado\".\n",
        "\n",
        "Mas negar que \"Todas as aves voam\" é o mesmo que afirmar \"não se verifica que todas as aves voam\" o que é equivalente a afirmar que \"Nem todas as aves voam\" mas não é afirmar que \"Todas as aves não voam\".\n",
        "\n",
        "Em linguagem Matemática, dado o rigor da interpretação das\n",
        "designações usadas, o processo de negação fica simplificado. Por\n",
        "exemplo, negar \"*5>2*\" é o mesmo que afirmar \"$\\neg$*(5>2)*\" que é equivalente, por definição da relação *>*, a escrever \"*5*$\\leq$*2*\". Assim como \"*5>2*\" é verdade, temos pela interpretação da negação que \"$\\neg$*(5>2)*\" é falso."
      ]
    },
    {
      "cell_type": "code",
      "execution_count": null,
      "metadata": {
        "colab": {
          "base_uri": "https://localhost:8080/"
        },
        "id": "wz0x1eemxodZ",
        "outputId": "9368bfed-1e87-4c8f-95ac-292d6c3cf20b"
      },
      "outputs": [
        {
          "output_type": "stream",
          "name": "stdout",
          "text": [
            "not True = False\n",
            "not False = True\n"
          ]
        }
      ],
      "source": [
        "# Tabela da Negação\n",
        "for p in [True,False]:\n",
        "  print('not',p,\"=\", not p)"
      ]
    },
    {
      "cell_type": "markdown",
      "source": [
        "#### Conjunção"
      ],
      "metadata": {
        "id": "cL0ITB--zMz5"
      }
    },
    {
      "cell_type": "markdown",
      "metadata": {
        "id": "MY1YQ6waxodc"
      },
      "source": [
        "Sejam $p$ e $q$ proposições. A proposição \"$p$ e $q$\", denotada\n",
        "$p\\wedge q$, é a proposição que é verdadeira apenas quando $p$ e $q$\n",
        "são ambas verdadeiras, caso contrário é falsa. A proposição $p\\wedge q$\n",
        "diz-se a \\textbf{conjunção} de $p$ e $q$.\n",
        "\n",
        "Assim, os valores lógicos das três proposições $p$, $q$, e $p\\wedge\n",
        "q$ estão relacionados pela tabela de verdade:\n",
        "    \n",
        "  $p$ |  $q$ | $p$ $\\wedge$ $q$ \n",
        ":-----:|:----:|:--------:\n",
        "  V | V  |   V \n",
        "  V | F  |   F \n",
        "  F | V  |   F \n",
        "  F | F  |   F\n",
        "\n",
        "Note que a tabela tem quatro linhas, uma por cada combinação\n",
        "possível de valores de verdade para as proposições $p$ e $q$.\n"
      ]
    },
    {
      "cell_type": "code",
      "execution_count": null,
      "metadata": {
        "colab": {
          "base_uri": "https://localhost:8080/"
        },
        "id": "lfdWUMEhxodd",
        "outputId": "9c4d7215-74c5-46b4-db30-fe357993ed92"
      },
      "outputs": [
        {
          "output_type": "stream",
          "name": "stdout",
          "text": [
            "True and True = True\n",
            "True and False = False\n",
            "False and True = False\n",
            "False and False = False\n"
          ]
        }
      ],
      "source": [
        "# Tabela da conjunção\n",
        "for p in [True,False]:\n",
        "  for q in [True,False]:\n",
        "    print(p,'and',q,'=', p and q)"
      ]
    },
    {
      "cell_type": "markdown",
      "source": [
        "#### Disjunção"
      ],
      "metadata": {
        "id": "-aFBMuN6zSFA"
      }
    },
    {
      "cell_type": "markdown",
      "metadata": {
        "id": "0SjpwKmJxode"
      },
      "source": [
        "Sejam *p* e *q* proposições. A proposição \"$p$ ou $q$\", denotada\n",
        "*p$\\vee$q*, é a proposição que é falsa apenas quando $p$ e $q$ são\n",
        "ambas falsas, caso contrário é verdade. A proposição *p$\\vee$q*\n",
        "diz-se a **disjunção** de *p* e *q*.\n",
        "A tabela de verdade de *p $\\vee$q* toma assim a forma:\n",
        "\n",
        "  $p$ | $q$ | $p$ $\\vee$ $q$ \n",
        ":------:|:-----:|:---------:\n",
        "   V  | V   |    V \n",
        "   V  | F   |    V \n",
        "   F  | V   |    V \n",
        "   F  | F   |    F\n",
        "\n",
        "A conectiva **ou** é interpretada na versão inclusiva da\n",
        "palavra \"ou\" em linguagem corrente. Note que, nas proposições seguintes *ou* tem ou *significado inclusivo* ou *significado\n",
        "exclusivo* consoante o contexto de interpretação:\n",
        "- O João pratica futebol ou natação.[ou ambas as coisas]\n",
        "- Ele é do Sporting ou do Porto.[mas não as duas coisas]\n"
      ]
    },
    {
      "cell_type": "code",
      "execution_count": null,
      "metadata": {
        "colab": {
          "base_uri": "https://localhost:8080/"
        },
        "id": "vU_yCF15xodf",
        "outputId": "3416302f-0b8d-4c5e-e200-57d213ccb73e"
      },
      "outputs": [
        {
          "output_type": "stream",
          "name": "stdout",
          "text": [
            "True or True = True\n",
            "True or False = True\n",
            "False or True = True\n",
            "False or False = False\n"
          ]
        }
      ],
      "source": [
        "# Tabela da disjunção\n",
        "for p in [True,False]:\n",
        "  for q in [True,False]:\n",
        "    print(p,'or',q,'=', p or q)"
      ]
    },
    {
      "cell_type": "markdown",
      "source": [
        "#### Disjunção exclusiva"
      ],
      "metadata": {
        "id": "CKM3RHExzV3R"
      }
    },
    {
      "cell_type": "markdown",
      "metadata": {
        "id": "J4KZWOSlxodg"
      },
      "source": [
        "Para tornar a interpretação da disjunção independente do contexto definimos:  A **disjunção exclusiva**\n",
        "de *p* e *q*, denotada *p$\\oplus$q* ou *p$\\dot{\\vee}$q*, é a\n",
        "proposição que é verdade apenas quando, ou *p* é verdadeira ou *q* é\n",
        "verdadeira, caso contrário é falsa.\n",
        "\n",
        "A tabela de verdade de *p$\\oplus$q* toma assim a forma:\n",
        "\n",
        "  $p$ | $q$ | $p$ $\\oplus$  $q$ \n",
        ":------:|:-----:|:--------:\n",
        "   V  |  V  |  F \n",
        "   V  |  F  |  V \n",
        "   F  |  V  |  V \n",
        "   F  |  F  |  F\n",
        "   "
      ]
    },
    {
      "cell_type": "code",
      "execution_count": null,
      "metadata": {
        "colab": {
          "base_uri": "https://localhost:8080/"
        },
        "id": "W8rb6Dfvxodh",
        "outputId": "6b1120e7-4664-4d4a-c288-5c9c6fb8d69e"
      },
      "outputs": [
        {
          "output_type": "stream",
          "name": "stdout",
          "text": [
            "True xor True = False\n",
            "True xor False = True\n",
            "False xor True = True\n",
            "False xor False = False\n"
          ]
        }
      ],
      "source": [
        "# Tabela da disjunção exclusiva\n",
        "for p in [True,False]:\n",
        "  for q in [True,False]:\n",
        "    print(p,'xor',q,'=', (p != q))"
      ]
    },
    {
      "cell_type": "markdown",
      "source": [
        "##### Exercícios:"
      ],
      "metadata": {
        "id": "PrwLnzJGzySm"
      }
    },
    {
      "cell_type": "markdown",
      "metadata": {
        "id": "o3rfA3Mqxodh"
      },
      "source": [
        "1) Relacione o valor lógico das proposições $p$, $q$, $r$ e\n",
        "$(p\\wedge (\\neg q))\\oplus (r\\vee p)$."
      ]
    },
    {
      "cell_type": "code",
      "source": [
        "bit = [False, True]\n",
        "for p in bit:\n",
        "  for q in bit:\n",
        "    for r in bit:\n",
        "      print(p, q, r, '=', ( (p and (not q)) != (r or p) ))"
      ],
      "metadata": {
        "id": "hEJcQvLuzn56",
        "outputId": "9e55c231-432a-4840-8946-a13bfd089866",
        "colab": {
          "base_uri": "https://localhost:8080/"
        }
      },
      "execution_count": null,
      "outputs": [
        {
          "output_type": "stream",
          "name": "stdout",
          "text": [
            "False False False = False\n",
            "False False True = True\n",
            "False True False = False\n",
            "False True True = True\n",
            "True False False = False\n",
            "True False True = False\n",
            "True True False = True\n",
            "True True True = True\n"
          ]
        }
      ]
    },
    {
      "cell_type": "markdown",
      "source": [
        "2) Indique os valores (de verdade ou falsidade) das seguintes afirmações:\n",
        "- $3\\leq 7$ e 4 é um número inteiro ímpar.\n",
        "- $3\\leq 7$ ou 4 é um número inteiro ímpar.\n",
        "- 5 é ímpar ou divisível por 4."
      ],
      "metadata": {
        "id": "QLY7BMXCzu4H"
      }
    },
    {
      "cell_type": "code",
      "source": [
        "print('a)', (( 3 <= 7) and ((4 % 2) == 1)))\n",
        "print('b)', (( 3 <= 7) or ((4 % 2) == 1)))\n",
        "print('c)', (((5 % 2) == 1) or ((5 % 4) == 0)))"
      ],
      "metadata": {
        "id": "poikJJs5zwCn",
        "outputId": "5c80c6c9-81ca-4a59-8776-ba30652ff138",
        "colab": {
          "base_uri": "https://localhost:8080/"
        }
      },
      "execution_count": null,
      "outputs": [
        {
          "output_type": "stream",
          "name": "stdout",
          "text": [
            "a) False\n",
            "b) True\n",
            "c) True\n"
          ]
        }
      ]
    },
    {
      "cell_type": "markdown",
      "source": [
        "#### Implicação"
      ],
      "metadata": {
        "id": "IRDbkWl5z_Fv"
      }
    },
    {
      "cell_type": "markdown",
      "metadata": {
        "id": "ez6dPBwNxodk"
      },
      "source": [
        "Sejam *p* e *q* proposições. A implicação *p$\\rightarrow$q* é\n",
        "a proposição que é falsa quando *p* é verdadeira e *q* é falsa, nos\n",
        "outros casos é verdadeira.\n",
        "\n",
        "A tabela de verdade de *p$\\rightarrow$q* toma assim a forma:\n",
        "\n",
        "  $p$ | $q$ | $p$ $\\rightarrow$ $q$ \n",
        ":------:|:-----:|:----------:\n",
        "   V  |  V  |   V \n",
        "   V  |  F  |   F \n",
        "   F  |  V  |   V \n",
        "   F  |  F  |   V\n",
        "\n",
        "Numa proposição do tipo *p$\\rightarrow$q* a proposição *p* recebe o\n",
        "nome de **hipótese** (antecedente ou premissa) e a *q* chama-se\n",
        "**tese** (conclusão ou consequente). A proposição *p$\\rightarrow$q* também é muitas vezes designada por **declaração\n",
        "condicional**. Estas designações são compatíveis com o uso da implicação em linguagem corrente, devemos no entanto notar que a tabela entra em conflito com a interpretação que fazemos da implicação: neste caso não se dirá \"*p* implica *q*\" quando se sabe à priori que *p* é falsa. Na interpretação que apresentamos para a implicação ela é verdade sempre que \"*p*\" é falsa independentemente do valor lógico de \"*q*\". Esta situação pode ilustrar-se com a implicação \"se 1+1=1 então 2=3\" que é verdadeira, uma vez que o antecedente é falso.\n"
      ]
    },
    {
      "cell_type": "code",
      "execution_count": null,
      "metadata": {
        "colab": {
          "base_uri": "https://localhost:8080/"
        },
        "id": "qzlPlaV8xodo",
        "outputId": "d8e5cfcd-7012-4784-dc4a-5854bd2ce4a7"
      },
      "outputs": [
        {
          "output_type": "stream",
          "name": "stdout",
          "text": [
            "False -> False = True\n",
            "False -> True = True\n",
            "True -> False = False\n",
            "True -> True = True\n"
          ]
        }
      ],
      "source": [
        "# Tabela da implicação\n",
        "bit = [False, True]\n",
        "\n",
        "for p in bit:\n",
        "  for q in bit:\n",
        "    print(p, '->', q, '=', not(p and not q))"
      ]
    },
    {
      "cell_type": "markdown",
      "source": [
        "#### Bi-implicação"
      ],
      "metadata": {
        "id": "qXCLTia90E--"
      }
    },
    {
      "cell_type": "markdown",
      "metadata": {
        "id": "qWsCfG_Dxodq"
      },
      "source": [
        "Sejam *p* e *q* proposições. A **bi-condicional** ou **bi-implicação** de *p* e *q* é a proposição *p$\\leftrightarrow$q* que é verdadeira\n",
        "quando *p* e *q* têm o mesmo valor lógico.\n",
        "\n",
        "A tabela de verdade de *p$\\leftrightarrow$q* toma assim a forma:\n",
        "\n",
        "\n",
        "  $p$ | $q$ | $p$ $\\leftrightarrow$ $q$ \n",
        ":------:|:-----:|:----------:\n",
        "   V  |  V  |   V \n",
        "   V  |  F  |   F \n",
        "   F  |  V  |   F \n",
        "   F  |  F  |   V\n",
        "\n",
        "A proposição *p$\\leftrightarrow$q* deve ler-se \"*p* se e só se *q*\"\n",
        "(abreviado por \"*p* sse *q*\") ou \"*p* é condição necessária e\n",
        "suficiente para *q*\"."
      ]
    },
    {
      "cell_type": "code",
      "execution_count": null,
      "metadata": {
        "colab": {
          "base_uri": "https://localhost:8080/"
        },
        "id": "QuDi0yscxodr",
        "outputId": "01f72187-7a2d-45a0-c3e9-41dc747730df"
      },
      "outputs": [
        {
          "output_type": "stream",
          "name": "stdout",
          "text": [
            "False <-> False = True\n",
            "False <-> True = False\n",
            "True <-> False = False\n",
            "True <-> True = True\n"
          ]
        }
      ],
      "source": [
        "# Tabela da disjunção exclusiva\n",
        "bit = [False, True]\n",
        "\n",
        "for p in bit:\n",
        "  for q in bit:\n",
        "    print(p, '<->', q, '=', (p == q))"
      ]
    },
    {
      "cell_type": "markdown",
      "metadata": {
        "id": "Ihqt6rRLxods"
      },
      "source": [
        "Facilmente podemos mostrar que as proposições *p$\\leftrightarrow$q*\n",
        "e  $(p\\rightarrow q)\\wedge(q\\rightarrow p)$ têm os mesmos valores\n",
        "lógicos, ou seja a proposição $(p\\leftrightarrow  q)\\leftrightarrow\n",
        "((p\\rightarrow q)\\wedge(q\\rightarrow p))$ é sempre verdadeira.\n",
        "\n",
        "\n",
        "(p | $\\leftrightarrow$ | q) | $\\leftrightarrow$ | ((p | $\\rightarrow$ | q) | $\\wedge$ | (q | $\\rightarrow$  | p)) \n",
        ":------:|:----:|:----:|:----:|:----:|:----:|:----:|:----:|:----:|:----:|:----: \n",
        "  V   |  V | V  |  V |  V |  V |  V |  V |  V |  V |  V \n",
        "  V   |  F | F  |  V |  V |  F |  F |  F |  F |  V |  V \n",
        "  F   |  F | V  |  V |  F |  V |  V |  F |  V |  F |  F \n",
        "  F   |  V | F  |  V |  F |  V |  F |  V |  F |  V |  F \n",
        "------|----|----|----|----|----|----|----|----|----|---- \n",
        "1  | 2 | 1 | 4 | 1 | 2 | 1 | 3 | 1 | 2 | 1 \n",
        "\n"
      ]
    },
    {
      "cell_type": "markdown",
      "source": [
        "##### Exercícios"
      ],
      "metadata": {
        "id": "Jc8TVRob0ODn"
      }
    },
    {
      "cell_type": "markdown",
      "metadata": {
        "id": "He8ZfTqkxodt"
      },
      "source": [
        "Suponhamos que *p,q,r* representam as seguintes sentenças:\n",
        "\n",
        ">$p:$\"7 é um número inteiro par\"\n",
        "\n",
        ">$q:3+1=4$\n",
        "\n",
        ">$r:$\"24 é divisível por 8\""
      ]
    },
    {
      "cell_type": "markdown",
      "source": [
        "1) Escreva em linguagem simbólica as proposições\n",
        "\n",
        "1. $3+1\\neq 4$ e 24 é divisível por 8\n",
        "\n",
        "1. não é verdade que 7 seja ímpar ou 3+1=4\n",
        "\n",
        "1. se 3+1=4 então 24 não é divisível por 8"
      ],
      "metadata": {
        "id": "FZZyjWGH0WrA"
      }
    },
    {
      "cell_type": "code",
      "source": [
        "print('1) not q and r')\n",
        "print('2) p or q')\n",
        "print('3) not (q and not (not r))')"
      ],
      "metadata": {
        "id": "J0JUWtGD0gYu",
        "outputId": "21a7e870-a146-4ef4-92e8-a7178bb0c387",
        "colab": {
          "base_uri": "https://localhost:8080/"
        }
      },
      "execution_count": null,
      "outputs": [
        {
          "output_type": "stream",
          "name": "stdout",
          "text": [
            "1) not q and r\n",
            "2) p or q\n",
            "3) not (q and not (not r))\n"
          ]
        }
      ]
    },
    {
      "cell_type": "markdown",
      "metadata": {
        "id": "qRO3_YlNxodu"
      },
      "source": [
        "2) Escreva por palavras as sentenças\n",
        "\n",
        "1. $p\\vee(\\neg q)$\n",
        "\n",
        "1. $\\neg(p\\wedge q)$\n",
        "\n",
        "1. $(\\neg r)\\vee (\\neg q)$\n",
        "    "
      ]
    },
    {
      "cell_type": "code",
      "source": [
        "print('''\n",
        "1) 7 é um número inteiro par ou 3 + 1 é diferente de 4\n",
        "2) 7 é um número inteiro impar ou  3 + 1 é diferente de 4\n",
        "3) 24 não é divisível por 8 ou 3 + 1 é diferente de 4\n",
        "''')"
      ],
      "metadata": {
        "id": "FdDS4rCg1PbF",
        "outputId": "cad76f56-ae03-4960-c421-10c2f68f608f",
        "colab": {
          "base_uri": "https://localhost:8080/"
        }
      },
      "execution_count": null,
      "outputs": [
        {
          "output_type": "stream",
          "name": "stdout",
          "text": [
            "\n",
            "1) 7 é um número inteiro par ou 3 + 1 é diferente de 4\n",
            "2) 7 é um número inteiro impar ou  3 + 1 é diferente de 4\n",
            "3) 24 não é divisível por 8 ou 3 + 1 é diferente de 4\n",
            "\n"
          ]
        }
      ]
    },
    {
      "cell_type": "markdown",
      "source": [
        "3) Construir as tabelas de verdade das seguintes proposições:\n",
        "1. $((p\\rightarrow q)\\wedge p)\\rightarrow q$\n",
        "1. $p\\leftrightarrow(q\\rightarrow r)$\n",
        "1. $(p\\wedge(\\neg p))\\rightarrow q$\n",
        "1. $((p\\vee r)\\wedge(q\\vee r))\\wedge((\\neg p)\\vee (\\neg r))$\n",
        "1. $(p\\wedge(q\\vee r))\\wedge (q\\wedge (p\\vee r))$"
      ],
      "metadata": {
        "id": "p1eqwcgN1MPW"
      }
    },
    {
      "cell_type": "code",
      "source": [
        "bit = [False, True]\n",
        "for p in bit:\n",
        "  for q in bit:\n",
        "    for r in bit:\n",
        "      r1 = ( not( (not(p and not q) and p) and not q ))\n",
        "      r2 = ( p == (not(q and not r)) )\n",
        "      r3 = ( not ((p and not p) and not q))\n",
        "      r4 = ( ((p or r) and (q or r)) and ((not p) and (not r)) )\n",
        "      r5 = ( (p and (q or r)) and (q and (p or r)) )\n",
        "      print(p, q, r,'1.=',r1,'2.=',r2,'3.=',r3,'4.=',r4,'5.=',r5)"
      ],
      "metadata": {
        "id": "qwSnbv9L0g2G",
        "outputId": "817092ac-3872-412f-8809-06ec803e074e",
        "colab": {
          "base_uri": "https://localhost:8080/"
        }
      },
      "execution_count": null,
      "outputs": [
        {
          "output_type": "stream",
          "name": "stdout",
          "text": [
            "False False False 1.= True 2.= False 3.= True 4.= False 5.= False\n",
            "False False True 1.= True 2.= False 3.= True 4.= False 5.= False\n",
            "False True False 1.= True 2.= True 3.= True 4.= False 5.= False\n",
            "False True True 1.= True 2.= False 3.= True 4.= False 5.= False\n",
            "True False False 1.= True 2.= True 3.= True 4.= False 5.= False\n",
            "True False True 1.= True 2.= True 3.= True 4.= False 5.= False\n",
            "True True False 1.= True 2.= False 3.= True 4.= False 5.= True\n",
            "True True True 1.= True 2.= True 3.= True 4.= False 5.= True\n"
          ]
        }
      ]
    },
    {
      "cell_type": "markdown",
      "metadata": {
        "id": "H7QfPtE0xodu"
      },
      "source": [
        "4) Quantas linhas tem a tabela de verdade de uma proposição com $n$ variáveis proposicionais?"
      ]
    },
    {
      "cell_type": "code",
      "source": [
        "print(' 2 elevado a n')\n",
        "for n in range (1, 11):\n",
        "  print(n, ':', 2**n )"
      ],
      "metadata": {
        "id": "0b9smr5z1bDc",
        "outputId": "06ac9853-bd4c-4df8-ef4b-2c87dcc0ea0e",
        "colab": {
          "base_uri": "https://localhost:8080/"
        }
      },
      "execution_count": null,
      "outputs": [
        {
          "output_type": "stream",
          "name": "stdout",
          "text": [
            " 2 elevado a n\n",
            "1 : 2\n",
            "2 : 4\n",
            "3 : 8\n",
            "4 : 16\n",
            "5 : 32\n",
            "6 : 64\n",
            "7 : 128\n",
            "8 : 256\n",
            "9 : 512\n",
            "10 : 1024\n"
          ]
        }
      ]
    },
    {
      "cell_type": "markdown",
      "source": [
        "#### Ordem de precedência das conectivas lógicas"
      ],
      "metadata": {
        "id": "Tw4gj4JR1hcM"
      }
    },
    {
      "cell_type": "markdown",
      "metadata": {
        "id": "Xvj48T1Mxodv"
      },
      "source": [
        "Até aqui, temos usado parêntesis para definir a ordem de\n",
        "aplicação dos operadores lógicos numa proposição composta. Por forma\n",
        "a reduzir o número de parêntesis adoptamos a seguinte convenção: Sempre que numa expressão estiverem presentes várias operações lógicas, **convenciona-se**, na ausência de parêntesis, que as operações se efectuem na ordem seguinte:\n",
        "1. a negação;\n",
        "1. a conjunção e a disjunção;\n",
        "1. a implicação e a bi-implicação."
      ]
    },
    {
      "cell_type": "markdown",
      "metadata": {
        "id": "625juGA3xodv"
      },
      "source": [
        "Assim,\n",
        "1. $p\\rightarrow ((\\neg p)\\vee r)$ pode escrever-se $p\\rightarrow \\neg p\\vee r$;\n",
        "1. $(p\\wedge (\\neg q))\\leftrightarrow c$ pode escrever-se $p\\wedge \\neg q\\leftrightarrow c$;\n",
        "1. $p\\vee q\\wedge \\neg r \\rightarrow p \\rightarrow\\neg q$ deve ser entendida como\n",
        "$(((p\\vee q)\\wedge(\\neg r))\\rightarrow p) \\rightarrow(\\neg q)$."
      ]
    },
    {
      "cell_type": "markdown",
      "source": [
        "### Tautologia"
      ],
      "metadata": {
        "id": "88sHjC3d1k7f"
      }
    },
    {
      "cell_type": "markdown",
      "source": [
        "Chama-se **tautologia** (ou fórmula logicamente\n",
        "verdadeira) a uma proposição que é verdadeira, para quaisquer que sejam os valores lógicos atribuídos às variáveis proposicionais que a compõem. Dito de outra forma, chama-se tautologia a uma proposição cuja coluna correspondente na tabela de verdade possui apenas Vs ou 1s. Exemplo duma tautologia é a proposição $p\\vee(\\neg p)$, designada de \"Princípio do terceiro excluído\","
      ],
      "metadata": {
        "id": "yqMOo4rw114D"
      }
    },
    {
      "cell_type": "markdown",
      "source": [
        "![tabela3-1.gif](data:image/gif;base64,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)"
      ],
      "metadata": {
        "id": "ZwRrD_FX14Z0"
      }
    },
    {
      "cell_type": "markdown",
      "metadata": {
        "id": "RC_FgQtMxodw"
      },
      "source": [
        "A negação duma tautologia, ou seja uma proposição que é sempre falsa, diz-se uma **contra-tautologia** ou **contradição**. Se uma proposição não é nem uma tautologia nem uma contradição denomina-se por **contingência**.\n",
        "\n",
        "Não deve confundir-se contradição com proposição falsa, assim como não deve confundir-se tautologia com proposição verdadeira. O facto de uma tautologia ser sempre verdadeira e uma contradição ser sempre falsa deve-se à sua forma lógica (sintaxe) e não ao significado que se lhes pode atribuir (semântica).\n",
        "\n",
        "A tabela de verdade"
      ]
    },
    {
      "cell_type": "markdown",
      "source": [
        "![tabela1.gif](data:image/gif;base64,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)"
      ],
      "metadata": {
        "id": "VgMYwbT01-V7"
      }
    },
    {
      "cell_type": "markdown",
      "source": [
        "mostra que $p\\rightarrow(p\\vee q)$ é uma tautologia, enquanto que $(p\\rightarrow q)\\wedge (p\\wedge (\\neg q))$ é uma contradição."
      ],
      "metadata": {
        "id": "i9dHq4Ym2JVT"
      }
    },
    {
      "cell_type": "markdown",
      "source": [
        "#### Exercício"
      ],
      "metadata": {
        "id": "DZsxdcPQ2OOb"
      }
    },
    {
      "cell_type": "markdown",
      "metadata": {
        "id": "v_pZt3kOxodx"
      },
      "source": [
        "1) Mostre que são tautologias:\n",
        "1. $(\\neg q\\rightarrow \\neg p)\\leftrightarrow(p\\rightarrow q)$\n",
        "1. $(p\\leftrightarrow  q)\\leftrightarrow ((p\\rightarrow q)\\wedge(q\\rightarrow p))$"
      ]
    },
    {
      "cell_type": "code",
      "source": [
        ""
      ],
      "metadata": {
        "id": "2IPg1TCm2l4z"
      },
      "execution_count": null,
      "outputs": []
    },
    {
      "cell_type": "markdown",
      "metadata": {
        "id": "8r9ISkWOxodx"
      },
      "source": [
        "Exemplos de outras tautologias são apresentadas abaixo:"
      ]
    },
    {
      "cell_type": "markdown",
      "source": [
        "![tabela2.gif](data:image/gif;base64,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)"
      ],
      "metadata": {
        "id": "o1lnynE_2TIz"
      }
    },
    {
      "cell_type": "markdown",
      "source": [
        "### Equivalências proposicionais"
      ],
      "metadata": {
        "id": "3tTj59PL2e0V"
      }
    },
    {
      "cell_type": "markdown",
      "metadata": {
        "id": "BKJFSFdRxodx"
      },
      "source": [
        "As proposições $p$ e $q$ dizem-se **logicamente\n",
        "equivalentes** se $p\\leftrightarrow q$ é uma tautologia. Por $p\\equiv\n",
        "q$ ou $p\\Leftrightarrow q$ denotamos que $p$ e $q$ são logicamente\n",
        "equivalentes.\n",
        "\n",
        "Diz-se que a proposição $p$ **implica logicamente** a proposição $q$ se a veracidade da primeira arrastar necessariamente a veracidade da segunda, ou seja, se a proposição *p$\\rightarrow$q* for uma tautologia.\n",
        "\n",
        "\n",
        "1. $\\neg q\\rightarrow \\neg p \\Leftrightarrow p\\rightarrow q$\n",
        "\n",
        "$\\neg$ |  $q$  | $\\rightarrow$ | $\\neg$ | $p$ \n",
        ":-----------:|:-------:|:---------------:|:--------:|:-----:\n",
        "F  |  V  |  V  |   F   |   V \n",
        "V  |  F  |  F  |   F   |   V \n",
        "F  |  V  |  V  |   V   |   F \n",
        "V  |  F  |  V  |   V   |   F \n",
        "-----------|-------|---------------|--------|-----\n",
        "2  |  1  |  3  |   2   |   1 \n",
        "\n",
        "e\n",
        "\n",
        "\n",
        "$p$  | $\\rightarrow$ |  $q$ \n",
        ":-----:|:-------------:|:----:  \n",
        "V | V | V \n",
        "V | F | F \n",
        "F | V | V \n",
        "F | V | F \n",
        "-------|---------------|------ \n",
        "1 | 2 | 1 \n",
        "\n",
        "\n",
        "1. $p\\leftrightarrow  q\\Leftrightarrow (p\\rightarrow q)\\wedge(q\\rightarrow p)$\n",
        "\n",
        "\n",
        "($p$ | $\\leftrightarrow$ | q) | $\\leftrightarrow$ | (($p$ | $\\rightarrow$ | $q$) | $\\wedge$ | ($q$ | $\\rightarrow$  | $p$)) \n",
        ":----:|:----:|:----:|:----:|:----:|:----:|:----:|:----:|:----:|:----:|:----:\n",
        "V | V | V | V | V | V | V | V | V | V | V \n",
        "V | F | F | V | V | F | F | F | F | V | V \n",
        "F | F | V | V | F | V | V | F | V | F | F \n",
        "F | V | F | V | F | V | F | V | F | V | F \n",
        "----|----|----|----|----|----|----|----|----|----|----\n",
        "  1 |  2 |  1 |  4 |  1 |  2 |  1 |  3 |  1 |  2 |  1 \n",
        "\n",
        "Deste modo,  a equivalência proposicional pode ser sempre verificada através duma tabela de verdade. Em particular, as proposições $p$ e $q$ são equivalentes se e só se as colunas, na tabela de verdade, que determinam os seu valores lógicos coincidirem.\n"
      ]
    },
    {
      "cell_type": "markdown",
      "source": [
        "#### Exercício"
      ],
      "metadata": {
        "id": "qbnVTzAE2iOr"
      }
    },
    {
      "cell_type": "markdown",
      "metadata": {
        "id": "oA15b120xody"
      },
      "source": [
        "1) Mostre que são exemplos de equivalências proposicionais:\n",
        "1. $\\neg(p\\vee \\neg p) \\Leftrightarrow p \\wedge \\neg p$\n",
        "1. $\\neg (p\\vee q)\\Leftrightarrow \\neg p \\wedge \\neg q$\n",
        "1. $\\neg p\\vee q \\Leftrightarrow p \\rightarrow q$\n",
        "1. $p\\vee(q\\wedge r)\\Leftrightarrow(p\\vee q)\\wedge(p\\vee r)$"
      ]
    },
    {
      "cell_type": "code",
      "source": [
        "bit = [False, True]\n",
        "\n",
        "print('|' + 'p'.center(7) + '|' + 'q'.center(7) + '|' +\n",
        "      '1.'.center(7) + '|' + '2.'.center(7) + '|' + '3.'.center(7) + '|')\n",
        "for p in bit:\n",
        "  for q in bit:\n",
        "    r1 = (not (p or not p)) == (p and not p) \n",
        "    r2 = (not (p or q)) == (not p and not q) \n",
        "    r3 = (not p or q) == (not(p and not q))\n",
        "    print('|' + str(p).center(7) + '|' + str(q).center(7) + '|' +\n",
        "          str(r1).center(7) + '|'+ str(r2).center(7) + '|' + str(r3).center(7) + '|')"
      ],
      "metadata": {
        "id": "WpWHJ-en2j-S",
        "outputId": "9c21ef4e-bf54-4bb1-db54-103c1a2466f6",
        "colab": {
          "base_uri": "https://localhost:8080/"
        }
      },
      "execution_count": 29,
      "outputs": [
        {
          "output_type": "stream",
          "name": "stdout",
          "text": [
            "|   p   |   q   |   1.  |   2.  |   3.  |\n",
            "| False | False |  True |  True |  True |\n",
            "| False |  True |  True |  True |  True |\n",
            "|  True | False |  True |  True |  True |\n",
            "|  True |  True |  True |  True |  True |\n"
          ]
        }
      ]
    },
    {
      "cell_type": "code",
      "source": [
        "bit = [False, True]\n",
        "\n",
        "print('|' + 'p'.center(7) + '|' + 'q'.center(7) + '|' + 'r'.center(7) + '|' +\n",
        "      '4.'.center(7) + '|')\n",
        "for p in bit:\n",
        "  for q in bit:\n",
        "    for r in bit:\n",
        "      #p∨(q∧r)⇔(p∨q)∧(p∨r)\n",
        "      r4 = (p or (q and r)) == ((p or q) and (p or r))\n",
        "      print('|' + str(p).center(7) + '|' + str(q).center(7) + '|' + str(r).center(7) + '|' + \n",
        "            str(r4).center(7) + '|')"
      ],
      "metadata": {
        "id": "ZX0lIntgMqMO",
        "outputId": "4aeb47e1-e537-4e63-9f91-e4a89086f133",
        "colab": {
          "base_uri": "https://localhost:8080/"
        }
      },
      "execution_count": 30,
      "outputs": [
        {
          "output_type": "stream",
          "name": "stdout",
          "text": [
            "|   p   |   q   |   r   |   4.  |\n",
            "| False | False | False |  True |\n",
            "| False | False |  True |  True |\n",
            "| False |  True | False |  True |\n",
            "| False |  True |  True |  True |\n",
            "|  True | False | False |  True |\n",
            "|  True | False |  True |  True |\n",
            "|  True |  True | False |  True |\n",
            "|  True |  True |  True |  True |\n"
          ]
        }
      ]
    },
    {
      "cell_type": "markdown",
      "metadata": {
        "id": "WoEwrf_Sxody"
      },
      "source": [
        "2) Indique quais das sentenças seguintes são equivalentes:\n",
        "1. $p\\wedge(\\neg q)$\n",
        "1. $p\\rightarrow q$\n",
        "1. $\\neg((\\neg p)\\vee q)$\n",
        "1. $q\\rightarrow(\\neg q)$\n",
        "1. $(\\neg p)\\vee q$\n",
        "1. $\\neg(p\\rightarrow q)$\n",
        "1. $p\\rightarrow(\\neg q)$\n",
        "1. $(\\neg p)\\rightarrow (\\neg q)$"
      ]
    },
    {
      "cell_type": "code",
      "source": [
        "bit = [False, True]\n",
        "\n",
        "print('|' + 'p'.center(7) + '|' + 'q'.center(7) + '|' +\n",
        "      '1.'.center(7) + '|' + '2.'.center(7) + '|' + '3.'.center(7) + '|')\n",
        "for p in bit:\n",
        "  for q in bit:\n",
        "    r1 = p and not q\n",
        "    r2 = not (p and not q) \n",
        "    r3 = not( not p or q)\n",
        "    print('|' + str(p).center(7) + '|' + str(q).center(7) + '|' +\n",
        "          str(r1).center(7) + '|'+ str(r2).center(7) + '|' + str(r3).center(7) + '|')"
      ],
      "metadata": {
        "id": "WrcjBYA_2s4a",
        "outputId": "f38b270c-63a5-4d07-9757-0119058f9118",
        "colab": {
          "base_uri": "https://localhost:8080/"
        }
      },
      "execution_count": 32,
      "outputs": [
        {
          "output_type": "stream",
          "name": "stdout",
          "text": [
            "|   p   |   q   |   1.  |   2.  |   3.  |\n",
            "| False | False | False |  True | False |\n",
            "| False |  True | False |  True | False |\n",
            "|  True | False |  True | False |  True |\n",
            "|  True |  True | False |  True | False |\n"
          ]
        }
      ]
    },
    {
      "cell_type": "markdown",
      "metadata": {
        "id": "GyjPFQaixody"
      },
      "source": [
        "3) Mostre que cada uma das proposições que se seguem:\n",
        "1. $(\\neg p)\\vee q$\n",
        "1. $(\\neg q)\\rightarrow (\\neg p)$\n",
        "1. $\\neg(p\\wedge (\\neg q))$\n",
        "é equivalente a $p\\rightarrow q$.\n"
      ]
    },
    {
      "cell_type": "code",
      "source": [
        ""
      ],
      "metadata": {
        "id": "OFq4Kqzp2ut6"
      },
      "execution_count": null,
      "outputs": []
    },
    {
      "cell_type": "markdown",
      "metadata": {
        "id": "B1Vvf3tfxody"
      },
      "source": [
        "4) Mostre que:\n",
        "1. $p\\vee(q\\wedge r)$ não é logicamente equivalente a $(p\\vee q)\\wedge r$.\n",
        "1. $p\\vee (q\\wedge r)$ é logicamente equivalente a $(p\\vee q)\\wedge (p\\vee r)$.\n",
        "1. $p\\vee(\\neg (q  \\vee r))$ é logicamente equivalente a $(p\\vee(\\neg q))\\vee(\\neg r)$"
      ]
    },
    {
      "cell_type": "code",
      "source": [
        ""
      ],
      "metadata": {
        "id": "q4bTHzbp234b"
      },
      "execution_count": null,
      "outputs": []
    },
    {
      "cell_type": "markdown",
      "metadata": {
        "id": "P191Gx5uxodz"
      },
      "source": [
        "De seguida apresentamos exemplos de equivalências úteis para o que se segue (que podem ser verificadas através de tabelas de verdade):"
      ]
    },
    {
      "cell_type": "markdown",
      "metadata": {
        "id": "BvekwUvrxodz"
      },
      "source": [
        "   Nome      |      Propriedade     |    Propriedade \n",
        "-------------|----------------------|-------------------\n",
        "Comutatividade | $p \\wedge q \\Leftrightarrow q \\wedge p$ | $p \\vee q \\Leftrightarrow q \\vee p$ \n",
        "Associativa| $(p\\wedge q)\\wedge r \\Leftrightarrow p \\wedge (q \\wedge r)$ | $(p\\vee q)\\vee r \\Leftrightarrow p \\vee (q \\vee r)$ \n",
        "Idempotência | $p\\wedge p \\Leftrightarrow p$ | $p\\vee p \\Leftrightarrow p$ \n",
        "Identidade | $p\\wedge V\\Leftrightarrow p$ | $p\\vee F\\Leftrightarrow p$ \n",
        "Dominância | $p\\wedge F\\Leftrightarrow F$ | $p\\vee V\\Leftrightarrow V$ \n",
        "Absorção | $p\\wedge(p\\vee r)\\Leftrightarrow p$ |$p\\vee(p\\wedge r)\\Leftrightarrow p$\n",
        "Distributivas | $p\\wedge(q\\vee r)\\Leftrightarrow(p\\wedge q)\\vee(p\\wedge r)$ | $p\\vee(q\\wedge r)\\Leftrightarrow(p\\vee q)\\wedge(p\\vee r)$ \n",
        "Distributivas | $p\\rightarrow(q\\vee r)\\Leftrightarrow(p\\rightarrow q)\\vee(p\\rightarrow r)$ | $p\\rightarrow(q\\wedge r)\\Leftrightarrow (p\\rightarrow q)\\wedge(p\\rightarrow r)$ \n",
        "Leis de De Morgan | $\\neg (p\\wedge q)\\Leftrightarrow \\neg p \\vee \\neg q$ |  $\\neg (p\\vee q)\\Leftrightarrow \\neg p \\wedge \\neg q$\n",
        "Def. Implicação | $p\\rightarrow q \\Leftrightarrow \\neg p \\vee q$ | $p\\rightarrow q\\Leftrightarrow \\neg(p\\wedge\\neg q)$ \n",
        "Def. Bi-condicional | $p\\leftrightarrow q \\Leftrightarrow (p\\rightarrow q) \\wedge (q \\rightarrow p)$ | $p\\leftrightarrow q \\Leftrightarrow (\\neg p \\vee q) \\wedge (\\neg q \\vee p)$ \n",
        "Negação | $\\neg(\\neg p)\\Leftrightarrow p$ | \n",
        "Contraposição | $p\\rightarrow q \\Leftrightarrow \\neg q \\rightarrow \\neg p$| \n",
        "Troca de premissas | $p\\rightarrow (q\\rightarrow r)\\Leftrightarrow q\\rightarrow (p\\rightarrow r)$ | "
      ]
    },
    {
      "cell_type": "markdown",
      "metadata": {
        "id": "C_gbI_hxxodz"
      },
      "source": [
        "As equivalências lógicas apresentadas na tabela anterior, podem ser usadas na determinação de equivalências lógicas adicionais. Isso porque, podemos numa proposição composta, substituir\n",
        "proposições por proposições que lhes sejam equivalentes\n",
        "sem que isso altere os valores de verdade da proposição original.\n",
        "\n",
        "Por exemplo:\n",
        "\n",
        "$$\n",
        "\\begin{array}{rcll}\n",
        "  \\neg(p\\vee(\\neg p \\wedge q)) & \\Leftrightarrow & \\neg p \\wedge \\neg(\\neg p \\wedge q) & \\text{da segunda lei de De Morgan} \\\\\n",
        "  & \\Leftrightarrow & \\neg p \\wedge [\\neg(\\neg p) \\vee \\neg q] & \\text{da primeira lei de De Morgan} \\\\\n",
        "  & \\Leftrightarrow & \\neg p \\wedge (p\\vee \\neg q) & \\text{da lei da dupla negação} \\\\\n",
        "  & \\Leftrightarrow & (\\neg p \\wedge p) \\vee (\\neg p \\wedge \\neg q) & \\text{da segunda distributividade} \\\\\n",
        "  & \\Leftrightarrow & F \\vee (\\neg p \\wedge \\neg q) & \\text{já que } \\neg p \\wedge p \\Leftrightarrow F \\\\\n",
        "  & \\Leftrightarrow & \\neg p \\wedge \\neg q & \\text{da lei identidade}\n",
        "\\end{array}\n",
        "$$\n",
        "\n",
        "Donde podemos concluir que $\\neg(p\\vee(\\neg p \\wedge q))$ e $\\neg p\n",
        "\\wedge \\neg q$ são proposições logicamente equivalentes:\n",
        "$$\n",
        " \\neg(p\\vee(\\neg p \\wedge q)) \\Leftrightarrow \\neg p \\wedge \\neg q\n",
        "$$\n"
      ]
    },
    {
      "cell_type": "markdown",
      "metadata": {
        "id": "r9xyo8TNxod0"
      },
      "source": [
        "5) Simplifique as seguintes proposições:\n",
        "1. $p\\vee(q\\wedge (\\neg p))$\n",
        "1. $\\neg(p\\vee(q\\wedge(\\neg r)))\\wedge q$\n",
        "1. $\\neg((\\neg p)\\wedge(\\neg q))$\n",
        "1. $\\neg((\\neg p)\\vee q)\\vee(p\\wedge(\\neg r))$\n",
        "1. $(p\\wedge q)\\vee (p\\wedge (\\neg q))$\n",
        "1. $(p\\wedge r)\\vee((\\neg r)\\wedge (p\\vee q))$\n"
      ]
    },
    {
      "cell_type": "code",
      "source": [
        "print('''\n",
        "1. p and q\n",
        "2. (not p or not(q and not r)) and q\n",
        "''')"
      ],
      "metadata": {
        "id": "O09tmVxv2-jy"
      },
      "execution_count": null,
      "outputs": []
    },
    {
      "cell_type": "markdown",
      "metadata": {
        "id": "9WjaI2GWxod0"
      },
      "source": [
        "6) Por vezes usa-se o símbolo $\\downarrow$ para construir proposições compostas $p\\downarrow q$ definidas por duas proposições $p$ e $q$, que é verdadeira quando e só quando $p$ e $q$ são simultaneamente falsas, e é falsa em todos os outros casos. A proposição $p\\downarrow q$ lê-se \"nem $p$ nem $q$\".\n",
        "1. Apresente a tabela de verdade de $p\\downarrow q$.\n",
        "1. Expresse $p\\downarrow q$ em termos das conectivas $\\wedge,\\vee$ e $\\neg$.\n",
        "1. Determine proposições apenas definidas pela conectiva $\\downarrow$ que sejam equivalentes a $\\neg p$, $p\\wedge q$ e $p\\vee q$."
      ]
    },
    {
      "cell_type": "code",
      "source": [
        "bit = [False, True]\n",
        "for p in bit:\n",
        "  for q in bit:\n",
        "    print(p, q, '=', not p and not q)\n",
        "\n",
        "print('')\n",
        "def seta(p, q):\n",
        "  return not p and not q\n",
        "\n",
        "for p in bit:\n",
        "  for q in bit:\n",
        "    print(p, q, '=', seta(p, p), seta(not p, not q), not seta(p, q))"
      ],
      "metadata": {
        "id": "x46L1b3v2-w6",
        "outputId": "474e5f86-edec-4438-fdee-aca1a5992bbf",
        "colab": {
          "base_uri": "https://localhost:8080/"
        }
      },
      "execution_count": 35,
      "outputs": [
        {
          "output_type": "stream",
          "name": "stdout",
          "text": [
            "False False = True\n",
            "False True = False\n",
            "True False = False\n",
            "True True = False\n",
            "\n",
            "False False = True False False\n",
            "False True = True False True\n",
            "True False = False False True\n",
            "True True = False True True\n"
          ]
        }
      ]
    },
    {
      "cell_type": "markdown",
      "metadata": {
        "id": "kIPoa0fDxod0"
      },
      "source": [
        "7) Expresse a proposição $p\\leftrightarrow q$ usando apenas os símbolos $\\wedge,\\vee$ e $\\neg$."
      ]
    },
    {
      "cell_type": "code",
      "source": [
        "biimp = not(p and not q) and not(q and not p)"
      ],
      "metadata": {
        "id": "rI-EqyPN3EGz"
      },
      "execution_count": null,
      "outputs": []
    },
    {
      "cell_type": "markdown",
      "source": [
        "### Considerações sobre a implicação"
      ],
      "metadata": {
        "id": "k4CIysHG3GJa"
      }
    },
    {
      "cell_type": "markdown",
      "metadata": {
        "id": "ASxT2a_zxod0"
      },
      "source": [
        "As duas primeiras linhas da tabela da implicação\n",
        "\n",
        "\n",
        "  $p$  |  $q$  |  $p\\rightarrow q$ \n",
        ":-------:|:-------:|:------------:\n",
        "  V  |  V | V \n",
        "  V  |  F | F \n",
        "  F  |  V | V \n",
        "  F  |  F | V\n",
        "\n",
        "\n",
        "não apresentam qualquer problema sob o ponto de vista intuitivo do senso comum. Quanto às duas últimas, qualquer outra escolha possível apresenta desvantagens sob o ponto de vista lógico, o que levou à escolha das soluções apresentadas, já que:\n",
        "\n",
        "1. fazendo F na 3º linha e F na 4º linha, obtém-se a tabela da conjunção\n",
        "1. fazendo F na 3º linha e V na 4º linha, obtém-se a tabela da bi-implicação\n",
        "1. resta a possibilidade de fazer V na 3º linha e F na 4º linha que também não é, pois isso equivaleria a recusar a equivalência\n",
        "$$\n",
        "(p\\rightarrow q)\\Leftrightarrow(\\neg q\\rightarrow\\neg p)\n",
        "$$\n",
        "que é uma equivalência aconselhável, já que a proposição \"se o Pedro fala, existe\" é (intuitivamente) equivalente à proposição \"se o Pedro não existe, não fala\". A aceitação desta equivalência impõe a tabela considerada para a implicação.\n",
        "\n",
        "\n",
        "$\\neg$ | $q$ | $\\rightarrow$ | $\\neg$ | $p$ \n",
        ":-------:|:-----:|:---------------:|:--------:|:-------:\n",
        " F | V | V | F | V\n",
        " V | F | F | F | V \n",
        " F | V | V | V | F \n",
        " V | F | V | V | F \n",
        "-------|-----|---------------|--------|-------\n",
        "2 | 1 | 3 | 2 | 1 \n",
        "\n",
        "e \n",
        "\n",
        "$p$ | $\\rightarrow$ | $q$ \n",
        ":----:|:---------------:|:-------:\n",
        "V | V | V \n",
        "V | F | F \n",
        "F | V | V \n",
        "F | V | F \n",
        "----|---------------|-------\n",
        "1 | 2 | 1 \n",
        "\n",
        "A partir duma implicação $r$ dada por $p\\rightarrow q$ define-se as\n",
        "proposições:\n",
        "1. $q\\rightarrow p$, designada de *recíproca* da implicação $r$;\n",
        "1. $\\neg q\\rightarrow \\neg p$, designada por *contra-recíproca* de $r$;\n",
        "1. $\\neg p\\rightarrow \\neg q$, designada por *inversa* de $r$.\n",
        "Observe-se que, embora a contra-recíproca seja equivalente à proposição original, o mesmo não acontece com a recíproca (e a inversa, que lhe é equivalente) o que se pode verificar através das respectivas tabelas de verdade.\n"
      ]
    },
    {
      "cell_type": "markdown",
      "source": [
        "#### Exercício"
      ],
      "metadata": {
        "id": "yjH_4jiN3P4Z"
      }
    },
    {
      "cell_type": "markdown",
      "metadata": {
        "id": "9ewLcsIGxod2"
      },
      "source": [
        "1) Determine:\n",
        "1. a contra-recíproca de $(\\neg p)\\rightarrow q$\n",
        "1. a inversa de $(\\neg q)\\rightarrow p$\n",
        "1. a recíproca da inversa de $q\\rightarrow (\\neg p)$\n",
        "1. a negação de $p\\rightarrow (\\neg q)$"
      ]
    },
    {
      "cell_type": "code",
      "source": [
        "def impl(p, q):\n",
        "  return not (p and not q)\n",
        "\n",
        "bit = [False, True]\n",
        "for p in bit:\n",
        "  for q in bit:\n",
        "    print(p, q, '=', impl(p,q), impl(not p,q), impl(not q, p), impl(q, not p), impl(p, not q))"
      ],
      "metadata": {
        "id": "YbaK9o1y3NUh",
        "outputId": "e093c8b9-b898-442e-fa38-c0f1356884c9",
        "colab": {
          "base_uri": "https://localhost:8080/"
        }
      },
      "execution_count": 39,
      "outputs": [
        {
          "output_type": "stream",
          "name": "stdout",
          "text": [
            "False False = True False False True True\n",
            "False True = True True True True True\n",
            "True False = False True True True True\n",
            "True True = True True True False False\n"
          ]
        }
      ]
    },
    {
      "cell_type": "markdown",
      "metadata": {
        "id": "k06PCXdDxoeA"
      },
      "source": [
        "## Atividades"
      ]
    },
    {
      "cell_type": "markdown",
      "metadata": {
        "id": "qyoPnzjxxoeA"
      },
      "source": [
        "##### Exercício 1\n",
        "\n",
        "Implemente os operadores de implicação e bi-implicação, através de funções\n",
        "\n",
        "    imp(bool,bool)->bool e biimp(bool,bool)->bool.\n",
        "\n",
        "\n",
        "O código abaixo está incorreto realize a correção e faça sua tabela verdade."
      ]
    },
    {
      "cell_type": "code",
      "source": [
        "def imp(p,q):\n",
        "  return p or q\n",
        "\n",
        "def biimp(p,q):\n",
        "  return imp(p,q) and imp(q,p)\n",
        "\n",
        "tv_p = [False, True]\n",
        "tv_q = [False, True]\n",
        "\n",
        "print('p'.center(5)+'|'+'q'.center(5)+'| (p->q) | (p<->q) |')\n",
        "\n",
        "for p in tv_p:\n",
        "  for q in tv_q:\n",
        "    print(str(p).center(5)+'|'+str(q).center(5)+'|'+str(imp(p,q)).center(10)+'|'+str(biimp(p,q)).center(10))"
      ],
      "metadata": {
        "id": "xNmr0z5a5p5G",
        "outputId": "45f37950-dedc-40a5-ac06-7571536b020b",
        "colab": {
          "base_uri": "https://localhost:8080/"
        }
      },
      "execution_count": 54,
      "outputs": [
        {
          "output_type": "stream",
          "name": "stdout",
          "text": [
            "  p  |  q  | (p->q) | (p<->q) |\n",
            "False|False|  False   |  False   \n",
            "False| True|   True   |   True   \n",
            " True|False|   True   |   True   \n",
            " True| True|   True   |   True   \n"
          ]
        }
      ]
    },
    {
      "cell_type": "markdown",
      "metadata": {
        "id": "SalyHDWTxoeB"
      },
      "source": [
        "##### Exercício 2\n",
        "Apresente as tabelas de verdade  da proposição $P4:(p\\rightarrow q) \\wedge \\neg h$."
      ]
    },
    {
      "cell_type": "code",
      "execution_count": null,
      "metadata": {
        "collapsed": true,
        "id": "ssrTrqfdxoeB"
      },
      "outputs": [],
      "source": [
        ""
      ]
    },
    {
      "cell_type": "markdown",
      "metadata": {
        "id": "fACpusWexoeC"
      },
      "source": [
        "##### Exercício 3\n",
        "Teste a função:\n",
        "     cab(list)->\n",
        "em que dado uma lista de strings ['p1','p2','p3',...,'pn'], imprima o cabeçalho duma tabela de verdade. Por exemplo, tal que\n",
        "    >>> cab(['p1','p2','imp(p1,p2)'])\n",
        "    -------------------------\n",
        "     p1  | p2  |  imp(p1,p2)\n",
        "    -------------------------\n"
      ]
    },
    {
      "cell_type": "code",
      "execution_count": 46,
      "metadata": {
        "collapsed": true,
        "id": "X23jUbL1xoeC"
      },
      "outputs": [],
      "source": [
        "def cab(lista):\n",
        "    print('-'*5*(len(lista)+1))\n",
        "    for prop in lista[:-1]:\n",
        "        print(prop.center(7)+'|', end='')\n",
        "    print(lista[-1])  # imprime último elemento\n",
        "    print('-'*5*(len(lista)+1))\n",
        "\n",
        "# coloque aqui o teste da função acima"
      ]
    },
    {
      "cell_type": "markdown",
      "metadata": {
        "id": "HLqZIG2FxoeD"
      },
      "source": [
        "##### Exercício 4\n",
        "Teste a função\n",
        "    linha(list)->\n",
        "em que dada uma lista de valores lógicos ['p1','p2','p3',...,'pn'], imprima uma linha 'p1|p2|p3|...|pn' duma tabela de verdade, onde cada valor lógico está numa string com 5 posições. Por exemplo, tal que\n",
        "      >>> linha([True,False,True])\n",
        "       True|False| True"
      ]
    },
    {
      "cell_type": "code",
      "execution_count": 47,
      "metadata": {
        "collapsed": true,
        "id": "ypnUGutfxoeD"
      },
      "outputs": [],
      "source": [
        "def linha(lista):\n",
        "    for prop in lista[:-1]:\n",
        "        print(str(prop).center(7)+'|', end='')\n",
        "    print(str(lista[-1]))  # imprime último elemento\n",
        "\n",
        "# coloque aqui o teste da função acima"
      ]
    },
    {
      "cell_type": "markdown",
      "metadata": {
        "id": "YOKeVHcoxoeD"
      },
      "source": [
        "##### Exercício 5\n",
        "Teste a função trad(string)->string que faça a tradução duma expressão proposicional codificada, usando os símbolos 0,1,\\&,$|$ e $\\sim$, numa expressão proposicional no Python usando False, True, and, or e not. Por exemplo, tal que\n",
        "      >>>  trad('(p&~(q|w))')\n",
        "      '(p and  not (q or w))'"
      ]
    },
    {
      "cell_type": "code",
      "execution_count": 52,
      "metadata": {
        "collapsed": true,
        "id": "9sQAvrLgxoeD"
      },
      "outputs": [],
      "source": [
        "def trad(exp):\n",
        "    u''' trans(str)->str \n",
        " \n",
        "         Tradução duma expressão proposicional codificada,\n",
        "         usando os símbolos 0,1,\\&,$|$ e $\\sim$, numa expressão\n",
        "         proposicional no Python usando False, True, and, or e not.\n",
        "         '''\n",
        "    exp = exp.replace('0','False')\n",
        "    exp = exp.replace('1','True')\n",
        "    exp = exp.replace('&',' and ')\n",
        "    exp = exp.replace('|',' or ')\n",
        "    exp = exp.replace('~',' not ')\n",
        "    return exp\n",
        "\n",
        "# coloque aqui o teste da função acima"
      ]
    },
    {
      "cell_type": "markdown",
      "metadata": {
        "id": "jS04T4RfxoeE"
      },
      "source": [
        "##### Exercício 6\n",
        "Teste a função\n",
        "\n",
        "       Eval(string,list)->bool\n",
        "       \n",
        "que avalia a expressão proposicional, na sintaxe do Python, associando a cada variável usada <var> o valor lógico <bool>. A associação entre variáveis e valores lógicos deve ser descrita por pares (<var>,<bool>) na lista que serve de argumento.\n",
        "\n",
        "    Eval('(p1 and  not (p2 or p3))',[('p1',True),('p2',False),('p3',True)])} avalia '(True and  not (False or True))'.\n",
        "\n",
        "Por exemplo, tal que\n",
        "\n",
        "    >>>  Eval('not(p1 and p2) or p1',[('p1',True),('p2',False)])\n",
        "    True"
      ]
    },
    {
      "cell_type": "code",
      "execution_count": 49,
      "metadata": {
        "collapsed": true,
        "id": "JBROAMHDxoeE"
      },
      "outputs": [],
      "source": [
        "def Eval(exp, atrib):\n",
        "    for var in atrib:\n",
        "        exp = exp.replace(var[0],str(var[1]))\n",
        "    return eval(exp)\n",
        "\n",
        "# coloque aqui o teste da função acima"
      ]
    },
    {
      "cell_type": "markdown",
      "metadata": {
        "id": "HFuOTVKDxoeF"
      },
      "source": [
        "##### Exercício 7\n",
        "Represente em representação binário os números de $2^n-1$ até zero. Exemplo:\n",
        "\n",
        "    >>> binlist(3)\n",
        "    111\n",
        "    110\n",
        "    101\n",
        "    100\n",
        "    011\n",
        "    010\n",
        "    001\n",
        "    000"
      ]
    },
    {
      "cell_type": "code",
      "execution_count": 50,
      "metadata": {
        "collapsed": true,
        "id": "g25lU1pkxoeF"
      },
      "outputs": [],
      "source": [
        "def binlist(nvar):\n",
        "  for n in range(2**nvar-1,-1,-1):\n",
        "    print(bin(n)[2:].rjust(nvar,'0'))\n",
        "\n",
        "# coloque aqui o teste da função acima"
      ]
    },
    {
      "cell_type": "markdown",
      "metadata": {
        "id": "V91kxaANxoeG"
      },
      "source": [
        "##### Exercício 8\n",
        "Usando as funções anteriores, defina uma função\n",
        "     tabela(string, list)->\n",
        "que imprima a tabela de verdade da proposição $q$, descrita pela string, assumindo que as suas variáveis estão na lista $[p1,p2,...,pn]$. (USANDO: a linguagem proposicional de símbolos 0,1,\\&,$|$ e $\\sim$, mais as funções imp(bool,bool)->bool e biimp(bool,bool)->bool))\n",
        "    Por exemplo, tal que\n",
        "\n",
        "      >>> tabela('imp(u,q)|w',['u','q','w'])\n",
        "        -------------------------\n",
        "          u  |  q  |  w  |imp(u,q)|w\n",
        "        -------------------------\n",
        "         True| True| True|True\n",
        "         True| True|False|True\n",
        "         True|False| True|True\n",
        "         True|False|False|False\n",
        "        False| True| True|True\n",
        "        False| True|False|True\n",
        "        False|False| True|True\n",
        "        False|False|False|True\n",
        "\n"
      ]
    },
    {
      "cell_type": "code",
      "execution_count": null,
      "metadata": {
        "collapsed": true,
        "id": "30IuCTMVxoeG"
      },
      "outputs": [],
      "source": [
        "def tabela(exp,var):\n",
        "  cab(var+[exp])\n",
        "  nvar = len(var)\n",
        "  for n in range(2**nvar-1,-1,-1):\n",
        "    l=bin(n)[2:].rjust(nvar,'0')\n",
        "    cont=0\n",
        "    lista = []\n",
        "    vlog = []\n",
        "    for v in var:\n",
        "      lista.append((v,bool(int(l[cont]))))\n",
        "      vlog.append(bool(int(l[cont])))\n",
        "      cont = cont + 1\n",
        "    linha(vlog+ [Eval(trad(exp),lista)])\n",
        "\n",
        "# coloque aqui o teste da função acima\n",
        "tabela('imp(u,q)|w',['u','q','w'])"
      ]
    },
    {
      "cell_type": "markdown",
      "metadata": {
        "id": "w42tJQ-jxoeH"
      },
      "source": [
        "##### Exercício 9\n",
        "Usando as funções anteriores, defina uma função\n",
        "\n",
        "    tautologia(string, list)->bool\n",
        "\n",
        "que verifica se a proposição $q$, descrita pela string, é uma tautologia e assumindo que as suas variáveis estão descritas na lista $[p1,p2,...p_n]$. (USANDO: a linguagem proposicional de símbolos 0,1,\\&,$|$ e $\\sim$, mais as funções imp(bool,bool)->bool e biimp(bool,bool)->bool)\n",
        "\n",
        "      >>>  tautologia('biimp(~q | w, imp(q,w))',['q','w'])\n",
        "      False\n"
      ]
    },
    {
      "cell_type": "code",
      "execution_count": null,
      "metadata": {
        "collapsed": true,
        "id": "AxN4fvjNxoeH"
      },
      "outputs": [],
      "source": [
        "def tautologia(exp,var):\n",
        "    sai = True\n",
        "    nvar = len(var)\n",
        "    for n in range(2**nvar-1,-1,-1):\n",
        "        l=str(bin(n))[2:].rjust(nvar,'0')\n",
        "        cont=0\n",
        "        lista = []\n",
        "        for v in var:\n",
        "            lista.append((v,bool(int(l[cont]))))\n",
        "            cont = cont + 1\n",
        "        sai = sai and bool(Eval(exp,lista))\n",
        "    return sai\n",
        "\n",
        "# coloque aqui o teste da função acima"
      ]
    }
  ],
  "metadata": {
    "kernelspec": {
      "display_name": "Python 3",
      "language": "python",
      "name": "python3"
    },
    "language_info": {
      "codemirror_mode": {
        "name": "ipython",
        "version": 3
      },
      "file_extension": ".py",
      "mimetype": "text/x-python",
      "name": "python",
      "nbconvert_exporter": "python",
      "pygments_lexer": "ipython3",
      "version": "3.5.1"
    },
    "colab": {
      "name": "ECOM01 - 01 - Lógica Proposicional.ipynb",
      "provenance": [],
      "collapsed_sections": [
        "qWsCfG_Dxodq",
        "RC_FgQtMxodw",
        "BKJFSFdRxodx",
        "oA15b120xody",
        "WoEwrf_Sxody",
        "GyjPFQaixody",
        "r9xyo8TNxod0",
        "kIPoa0fDxod0",
        "ASxT2a_zxod0",
        "9ewLcsIGxod2"
      ],
      "include_colab_link": true
    }
  },
  "nbformat": 4,
  "nbformat_minor": 0
}