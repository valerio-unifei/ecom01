{
  "nbformat": 4,
  "nbformat_minor": 0,
  "metadata": {
    "colab": {
      "name": "ECOM01_03_Técnicas de Demonstração.ipynb",
      "provenance": [],
      "authorship_tag": "ABX9TyMN74nvUTd+7wR2fXlD2+hc",
      "include_colab_link": true
    },
    "kernelspec": {
      "name": "python3",
      "display_name": "Python 3"
    },
    "language_info": {
      "name": "python"
    }
  },
  "cells": [
    {
      "cell_type": "markdown",
      "metadata": {
        "id": "view-in-github",
        "colab_type": "text"
      },
      "source": [
        "<a href=\"https://colab.research.google.com/github/valerio-unifei/ecom01/blob/main/ECOM01_03_T%C3%A9cnicas_de_Demonstra%C3%A7%C3%A3o.ipynb\" target=\"_parent\"><img src=\"https://colab.research.google.com/assets/colab-badge.svg\" alt=\"Open In Colab\"/></a>"
      ]
    },
    {
      "cell_type": "markdown",
      "source": [
        "# Provas"
      ],
      "metadata": {
        "id": "KPlTM-jU3yls"
      }
    },
    {
      "cell_type": "markdown",
      "source": [
        "Com os conceitos de Tautologias apresentados no capítulo anterior, serão aplicados padrões de inferência lógica para validas os métodos comuns na prova de equações lógicas."
      ],
      "metadata": {
        "id": "bQnXPLRH317a"
      }
    },
    {
      "cell_type": "markdown",
      "source": [
        "## Prova Direta"
      ],
      "metadata": {
        "id": "bfW-rV_Y4IkC"
      }
    },
    {
      "cell_type": "markdown",
      "source": [
        "Uma prova é uma argumentação que mostra, de maneira indiscutível, que uma afirmação é verdadeira.\n",
        "\n",
        "A prova direta é quando a expressão lógica analisada permite uma solução direta, sem a necessidade de artifícios para sua solução."
      ],
      "metadata": {
        "id": "AUu_RsyI4SRp"
      }
    },
    {
      "cell_type": "markdown",
      "source": [
        "**Proposição**: A soma de dois números inteiros pares é par."
      ],
      "metadata": {
        "id": "Z3LaJ6B7xEIH"
      }
    },
    {
      "cell_type": "code",
      "execution_count": null,
      "metadata": {
        "id": "JmlDeTcqs6Lt"
      },
      "outputs": [],
      "source": [
        "universo = list(range(-1000,1000))\n",
        "\n",
        "validos = 0\n",
        "inválidos = 0\n",
        "for x in universo:\n",
        "  for y in universo:\n",
        "    if x != y:\n",
        "      if x % 2 == 0 and y % 2 == 0:\n",
        "        if (x + y) % 2 == 0:\n",
        "          validos += 1\n",
        "        else:\n",
        "          print('Proposta inválida!')\n",
        "          inválidos += 1\n",
        "          \n",
        "validos, inválidos"
      ]
    },
    {
      "cell_type": "markdown",
      "source": [
        "## Prova Indireta"
      ],
      "metadata": {
        "id": "Wb5JXg-06Uq2"
      }
    },
    {
      "cell_type": "markdown",
      "source": [
        "A prova indireta ou **prova por contraposição** utiliza o recuros que a implicação p -> q é equivalente a sua contrapartida ~q -> ~p."
      ],
      "metadata": {
        "id": "ENsSahX26aBN"
      }
    },
    {
      "cell_type": "markdown",
      "source": [
        "**Proposição**: Se *n* é um inteiro e *3n + 2* é impar, então *n* é impar.\n",
        "```\n",
        "((3n + 2) % 2 == 1) -> (n % 2 == 1)\n",
        "```\n",
        "Contraposição:\n",
        "```\n",
        "(n % 2 == 0) -> ((3n + 2) % 2 == 0)\n",
        "```\n",
        "\n"
      ],
      "metadata": {
        "id": "xIElyANJ6r5W"
      }
    },
    {
      "cell_type": "code",
      "source": [
        "universo = list(range(-1000,1000))\n",
        "\n",
        "validos = 0\n",
        "inválidos = 0\n",
        "for n in universo:\n",
        "  if n % 2 == 0:\n",
        "    if (3*n + 2) % 2 == 0:\n",
        "      validos += 1\n",
        "    else:\n",
        "      inválidos += 1\n",
        "\n",
        "validos, inválidos"
      ],
      "metadata": {
        "id": "vKS-QQ3S3OYL"
      },
      "execution_count": null,
      "outputs": []
    },
    {
      "cell_type": "markdown",
      "source": [
        "## Prova por Contradição"
      ],
      "metadata": {
        "id": "BJ_X8VNX6sXt"
      }
    },
    {
      "cell_type": "markdown",
      "source": [
        "A prova por contradição ou **redução ao absurdo** combina prova direta e prova indireta. \n",
        "\n",
        "Para provar que A -> B é *True* mas a prova direta é inviável.\n",
        "\n",
        "Calcular A & ~Q é mais fácil.\n",
        "\n",
        "A & ~Q sempre será *False*, isto é, impossível, portanto A -> B é *True*."
      ],
      "metadata": {
        "id": "gf2gaqZB4Bjg"
      }
    },
    {
      "cell_type": "markdown",
      "source": [
        "**Proposição**: Nenhum número inteiro é ao mesmo tempo par e impar.\n",
        "```\n",
        "???\n",
        "```\n",
        "Contradição:\n",
        "```\n",
        "(x % 2 == 0) & (x % 2 == 1) == False\n",
        "```"
      ],
      "metadata": {
        "id": "YiPsgkao5c8T"
      }
    },
    {
      "cell_type": "code",
      "source": [
        "universo = list(range(-1000,1000))\n",
        "\n",
        "validos = 0\n",
        "inválidos = 0\n",
        "for x in universo:\n",
        "  if (x % 2 == 0) and (x % 2 == 1):\n",
        "    validos += 1\n",
        "  else:\n",
        "    inválidos += 1  \n",
        "\n",
        "validos, inválidos"
      ],
      "metadata": {
        "id": "tvjV-mkR5Ia_"
      },
      "execution_count": null,
      "outputs": []
    },
    {
      "cell_type": "markdown",
      "source": [
        "## Prova Exaustiva"
      ],
      "metadata": {
        "id": "_77P6ooa67l3"
      }
    },
    {
      "cell_type": "markdown",
      "source": [
        "A prova exaustiva ou **prova através de casos** realiza a prova direta da expressão usando casos específicos de teste."
      ],
      "metadata": {
        "id": "v8ChuZvh69lS"
      }
    },
    {
      "cell_type": "markdown",
      "source": [
        "**Proposição**: Se (n + 1)<sup>3</sup> >= 3<sup>n</sup> se é um número positivo com n <= 4.\n",
        "\n",
        "Casos:\n",
        "```\n",
        "n = [ 1, 2, 3, 4]\n",
        "```"
      ],
      "metadata": {
        "id": "zYfFvMSm7IoG"
      }
    },
    {
      "cell_type": "code",
      "source": [
        "universo = [1, 2, 3, 4]\n",
        "\n",
        "validos = 0\n",
        "inválidos = 0\n",
        "for n in universo:\n",
        "  if (n + 1)**3 >= 3**n:\n",
        "    validos += 1\n",
        "  else:\n",
        "    inválidos += 1  \n",
        "\n",
        "validos, inválidos"
      ],
      "metadata": {
        "id": "n5yTzAM87gUZ"
      },
      "execution_count": null,
      "outputs": []
    },
    {
      "cell_type": "markdown",
      "source": [
        "# Relações de recorrência"
      ],
      "metadata": {
        "id": "uS4a-gw1zR1c"
      }
    },
    {
      "cell_type": "markdown",
      "source": [
        "Relações de recorrência são críticas para a programação por dois fatores:\n",
        "* Uso de funções recursivas\n",
        "* Lentidão nos cálculos \n",
        "* Consumo de memória"
      ],
      "metadata": {
        "id": "PvROkDPq0WXE"
      }
    },
    {
      "cell_type": "markdown",
      "source": [
        "**Exemplo**: Comparaçao entre relação de recorrência e forma fechada do mesmo cálculo.\n",
        "```\n",
        "# Recorrência\n",
        "P(1) == 1\n",
        "P(n), sendo n > 1 == n + P(n - 1)\n",
        "# Fechada\n",
        "P(n) == n * (n + 1) / 2\n",
        "```"
      ],
      "metadata": {
        "id": "cfNgCiIi9a74"
      }
    },
    {
      "cell_type": "code",
      "source": [
        "from sympy.logic.boolalg import Xor\n",
        "import time\n",
        "\n",
        "def rP(n):\n",
        "  if n == 1:\n",
        "    return 1\n",
        "  elif n > 1:\n",
        "    return n + rP(n - 1)\n",
        "\n",
        "def fP(n):\n",
        "  return n * (n + 1) // 2\n",
        "\n",
        "n = 900\n",
        "\n",
        "inicio = time.time()\n",
        "x = rP(n)\n",
        "termino = time.time()\n",
        "print('Recursão Tempo(s):',termino-inicio,'Valor:',x)\n",
        "\n",
        "inicio = time.time()\n",
        "x = fP(n)\n",
        "termino = time.time()\n",
        "print('Fechada Tempo(s):',termino-inicio,'Valor:',x)"
      ],
      "metadata": {
        "id": "SYK_5Gey9aUT"
      },
      "execution_count": null,
      "outputs": []
    },
    {
      "cell_type": "code",
      "source": [
        "import sys\n",
        "print('Recursões máximas:',sys.getrecursionlimit())"
      ],
      "metadata": {
        "id": "80ec72co-2Ql"
      },
      "execution_count": null,
      "outputs": []
    },
    {
      "cell_type": "markdown",
      "source": [
        "### Sequências Polinomiais"
      ],
      "metadata": {
        "id": "S0p9ZPo8_pLO"
      }
    },
    {
      "cell_type": "code",
      "source": [
        "def H(n):\n",
        "  if n < 1:\n",
        "    raise Exception(f'Somente para n > 0! Fornecido: n = {n}')\n",
        "\n",
        "  if n == 1:\n",
        "    return 1\n",
        "  else:\n",
        "    return H(n-1) + 6*n - 6\n",
        "\n",
        "print('H(1) =',H(1))\n",
        "print('H(22) =',H(22))\n",
        "print('H(-5) =',H(-5))"
      ],
      "metadata": {
        "id": "EmE_kAOhCjYq"
      },
      "execution_count": null,
      "outputs": []
    },
    {
      "cell_type": "markdown",
      "source": [
        "Calculando os primeiros termos 0-10:"
      ],
      "metadata": {
        "id": "boyAkgzRB7cd"
      }
    },
    {
      "cell_type": "code",
      "source": [
        "y = []\n",
        "for x in range(1,10):\n",
        "  y.append(H(x))\n",
        "\n",
        "y"
      ],
      "metadata": {
        "id": "Qvhk4vVbzRVl"
      },
      "execution_count": null,
      "outputs": []
    },
    {
      "cell_type": "markdown",
      "source": [
        "Sequência das diferenças entre os primeiros termos para uma forma fechada de:\n",
        "```\n",
        "H(n) = A*n + B\n",
        "```"
      ],
      "metadata": {
        "id": "dzHHQV_SBxuq"
      }
    },
    {
      "cell_type": "code",
      "source": [
        "y[:-1]"
      ],
      "metadata": {
        "id": "9eLs0KzQCWJY"
      },
      "execution_count": null,
      "outputs": []
    },
    {
      "cell_type": "code",
      "source": [
        "y[1:]"
      ],
      "metadata": {
        "id": "l0dHj8F1CXyL"
      },
      "execution_count": null,
      "outputs": []
    },
    {
      "cell_type": "code",
      "source": [
        "s1 = [b - a for a, b in zip(y[:-1], y[1:])]\n",
        "s1"
      ],
      "metadata": {
        "id": "Pua9Ne8bA_nB"
      },
      "execution_count": null,
      "outputs": []
    },
    {
      "cell_type": "markdown",
      "source": [
        "Sequência das diferenças da anterior para uma forma fechada:\n",
        "```\n",
        "H(n) = A * n**2 + B * n + C\n",
        "```"
      ],
      "metadata": {
        "id": "1BWT7xpbCaOh"
      }
    },
    {
      "cell_type": "code",
      "source": [
        "s2 = [b - a for a, b in zip(s1[:-1], s1[1:])]\n",
        "s2"
      ],
      "metadata": {
        "id": "Z-Jl0D9QBvjD"
      },
      "execution_count": null,
      "outputs": []
    },
    {
      "cell_type": "markdown",
      "source": [
        "Monta-se o sistema abaixo para encontrar a forma fechada:\n",
        "```\n",
        "H(n) = A * n**2 + B * n + C\n",
        "#-----------------\n",
        "H(1) = A * 1 + B * 1 + C = 1\n",
        "H(2) = A * 4 + B * 2 + C = 7\n",
        "H(3) = A * 9 + B * 3 + C = 19\n",
        "```"
      ],
      "metadata": {
        "id": "DFSaInSPCREN"
      }
    },
    {
      "cell_type": "code",
      "source": [
        "import numpy as np\n",
        "\n",
        "n = np.array([\n",
        "              [1,1,1],\n",
        "              [4,2,1],\n",
        "              [9,3,1]\n",
        "              ])\n",
        "H = np.array([1,7,19])\n",
        "\n",
        "C = np.linalg.inv(n).dot(H)\n",
        "print('C =',C)\n",
        "\n",
        "print(f'H(n) = {C[0]:.2} * n**2 + {C[1]:.2} * n + {C[2]:.2}')"
      ],
      "metadata": {
        "id": "8XpwYW-MDou1"
      },
      "execution_count": null,
      "outputs": []
    },
    {
      "cell_type": "markdown",
      "source": [
        "# Indução Matemática"
      ],
      "metadata": {
        "id": "ngoW6pMnFmS2"
      }
    },
    {
      "cell_type": "markdown",
      "source": [
        "Indução matemática é um método de prova matemática usado para demonstrar a verdade de um número infinito de proposições."
      ],
      "metadata": {
        "id": "d0WJxP-tFrkB"
      }
    },
    {
      "cell_type": "markdown",
      "source": [
        "**Proposição**: Seja *x* um número natural. Então:\n",
        "```\n",
        "0**2 + 1**2 + 2**2 + ... + x**2 = ((2*x + 1) * (x + 1) * x) / 6\n",
        "```"
      ],
      "metadata": {
        "id": "YZwBj3l9GsZD"
      }
    },
    {
      "cell_type": "code",
      "source": [
        "t1 = []\n",
        "\n",
        "for x in range(0,10):\n",
        "  soma = 0\n",
        "  for j in range(0,x+1):\n",
        "    soma += j ** 2\n",
        "  t1.append(soma)\n",
        "\n",
        "t1"
      ],
      "metadata": {
        "id": "Wzk2MUUjHFCK"
      },
      "execution_count": null,
      "outputs": []
    },
    {
      "cell_type": "code",
      "source": [
        "t2 = []\n",
        "\n",
        "for x in range(0,10):\n",
        "  soma = ((2*x + 1) * (x + 1) * x) // 6\n",
        "  t2.append(soma)\n",
        "\n",
        "t2"
      ],
      "metadata": {
        "id": "XEoeypYYIcCE"
      },
      "execution_count": null,
      "outputs": []
    }
  ]
}